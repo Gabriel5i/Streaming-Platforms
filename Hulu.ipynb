{
 "cells": [
  {
   "cell_type": "code",
   "execution_count": 1,
   "id": "ae95e60d-d263-45c0-ab39-46902b0fccf8",
   "metadata": {},
   "outputs": [],
   "source": [
    "import pandas as pd\n",
    "import re\n",
    "import numpy as np\n",
    "import math\n",
    "import matplotlib.pyplot as plt\n",
    "import seaborn as sns\n",
    "sns.set_style(\"darkgrid\")"
   ]
  },
  {
   "cell_type": "code",
   "execution_count": 2,
   "id": "9739df4e-a415-46e1-a997-cdc2d0108d26",
   "metadata": {},
   "outputs": [
    {
     "data": {
      "text/html": [
       "<div>\n",
       "<style scoped>\n",
       "    .dataframe tbody tr th:only-of-type {\n",
       "        vertical-align: middle;\n",
       "    }\n",
       "\n",
       "    .dataframe tbody tr th {\n",
       "        vertical-align: top;\n",
       "    }\n",
       "\n",
       "    .dataframe thead th {\n",
       "        text-align: right;\n",
       "    }\n",
       "</style>\n",
       "<table border=\"1\" class=\"dataframe\">\n",
       "  <thead>\n",
       "    <tr style=\"text-align: right;\">\n",
       "      <th></th>\n",
       "      <th>show_id</th>\n",
       "      <th>type</th>\n",
       "      <th>title</th>\n",
       "      <th>director</th>\n",
       "      <th>cast</th>\n",
       "      <th>country</th>\n",
       "      <th>date_added</th>\n",
       "      <th>release_year</th>\n",
       "      <th>rating</th>\n",
       "      <th>duration</th>\n",
       "      <th>listed_in</th>\n",
       "      <th>description</th>\n",
       "    </tr>\n",
       "  </thead>\n",
       "  <tbody>\n",
       "    <tr>\n",
       "      <th>0</th>\n",
       "      <td>s1</td>\n",
       "      <td>Movie</td>\n",
       "      <td>Ricky Velez: Here's Everything</td>\n",
       "      <td>NaN</td>\n",
       "      <td>NaN</td>\n",
       "      <td>NaN</td>\n",
       "      <td>October 24, 2021</td>\n",
       "      <td>2021</td>\n",
       "      <td>TV-MA</td>\n",
       "      <td>NaN</td>\n",
       "      <td>Comedy, Stand Up</td>\n",
       "      <td>​Comedian Ricky Velez bares it all with his ho...</td>\n",
       "    </tr>\n",
       "    <tr>\n",
       "      <th>1</th>\n",
       "      <td>s2</td>\n",
       "      <td>Movie</td>\n",
       "      <td>Silent Night</td>\n",
       "      <td>NaN</td>\n",
       "      <td>NaN</td>\n",
       "      <td>NaN</td>\n",
       "      <td>October 23, 2021</td>\n",
       "      <td>2020</td>\n",
       "      <td>NaN</td>\n",
       "      <td>94 min</td>\n",
       "      <td>Crime, Drama, Thriller</td>\n",
       "      <td>Mark, a low end South London hitman recently r...</td>\n",
       "    </tr>\n",
       "    <tr>\n",
       "      <th>2</th>\n",
       "      <td>s3</td>\n",
       "      <td>Movie</td>\n",
       "      <td>The Marksman</td>\n",
       "      <td>NaN</td>\n",
       "      <td>NaN</td>\n",
       "      <td>NaN</td>\n",
       "      <td>October 23, 2021</td>\n",
       "      <td>2021</td>\n",
       "      <td>PG-13</td>\n",
       "      <td>108 min</td>\n",
       "      <td>Action, Thriller</td>\n",
       "      <td>A hardened Arizona rancher tries to protect an...</td>\n",
       "    </tr>\n",
       "    <tr>\n",
       "      <th>3</th>\n",
       "      <td>s4</td>\n",
       "      <td>Movie</td>\n",
       "      <td>Gaia</td>\n",
       "      <td>NaN</td>\n",
       "      <td>NaN</td>\n",
       "      <td>NaN</td>\n",
       "      <td>October 22, 2021</td>\n",
       "      <td>2021</td>\n",
       "      <td>R</td>\n",
       "      <td>97 min</td>\n",
       "      <td>Horror</td>\n",
       "      <td>A forest ranger and two survivalists with a cu...</td>\n",
       "    </tr>\n",
       "    <tr>\n",
       "      <th>4</th>\n",
       "      <td>s5</td>\n",
       "      <td>Movie</td>\n",
       "      <td>Settlers</td>\n",
       "      <td>NaN</td>\n",
       "      <td>NaN</td>\n",
       "      <td>NaN</td>\n",
       "      <td>October 22, 2021</td>\n",
       "      <td>2021</td>\n",
       "      <td>NaN</td>\n",
       "      <td>104 min</td>\n",
       "      <td>Science Fiction, Thriller</td>\n",
       "      <td>Mankind's earliest settlers on the Martian fro...</td>\n",
       "    </tr>\n",
       "    <tr>\n",
       "      <th>...</th>\n",
       "      <td>...</td>\n",
       "      <td>...</td>\n",
       "      <td>...</td>\n",
       "      <td>...</td>\n",
       "      <td>...</td>\n",
       "      <td>...</td>\n",
       "      <td>...</td>\n",
       "      <td>...</td>\n",
       "      <td>...</td>\n",
       "      <td>...</td>\n",
       "      <td>...</td>\n",
       "      <td>...</td>\n",
       "    </tr>\n",
       "    <tr>\n",
       "      <th>3068</th>\n",
       "      <td>s3069</td>\n",
       "      <td>TV Show</td>\n",
       "      <td>Star Trek: The Original Series</td>\n",
       "      <td>NaN</td>\n",
       "      <td>NaN</td>\n",
       "      <td>United States</td>\n",
       "      <td>NaN</td>\n",
       "      <td>1966</td>\n",
       "      <td>TV-PG</td>\n",
       "      <td>3 Seasons</td>\n",
       "      <td>Action, Adventure, Classics</td>\n",
       "      <td>The 23rd century adventures of Captain James T...</td>\n",
       "    </tr>\n",
       "    <tr>\n",
       "      <th>3069</th>\n",
       "      <td>s3070</td>\n",
       "      <td>TV Show</td>\n",
       "      <td>Star Trek: Voyager</td>\n",
       "      <td>NaN</td>\n",
       "      <td>NaN</td>\n",
       "      <td>United States</td>\n",
       "      <td>NaN</td>\n",
       "      <td>1997</td>\n",
       "      <td>TV-PG</td>\n",
       "      <td>7 Seasons</td>\n",
       "      <td>Action, Adventure, Science Fiction</td>\n",
       "      <td>Catapulted into the distant sector of the gala...</td>\n",
       "    </tr>\n",
       "    <tr>\n",
       "      <th>3070</th>\n",
       "      <td>s3071</td>\n",
       "      <td>TV Show</td>\n",
       "      <td>The Fades</td>\n",
       "      <td>NaN</td>\n",
       "      <td>NaN</td>\n",
       "      <td>United Kingdom</td>\n",
       "      <td>NaN</td>\n",
       "      <td>2011</td>\n",
       "      <td>TV-14</td>\n",
       "      <td>1 Season</td>\n",
       "      <td>Horror, International, Science Fiction</td>\n",
       "      <td>Seventeen-year-old Paul is haunted by apocalyp...</td>\n",
       "    </tr>\n",
       "    <tr>\n",
       "      <th>3071</th>\n",
       "      <td>s3072</td>\n",
       "      <td>TV Show</td>\n",
       "      <td>The Twilight Zone</td>\n",
       "      <td>NaN</td>\n",
       "      <td>NaN</td>\n",
       "      <td>United States</td>\n",
       "      <td>NaN</td>\n",
       "      <td>1959</td>\n",
       "      <td>TV-PG</td>\n",
       "      <td>5 Seasons</td>\n",
       "      <td>Classics, Science Fiction, Thriller</td>\n",
       "      <td>Rod Serling's seminal anthology series focused...</td>\n",
       "    </tr>\n",
       "    <tr>\n",
       "      <th>3072</th>\n",
       "      <td>s3073</td>\n",
       "      <td>TV Show</td>\n",
       "      <td>Tokyo Magnitude 8.0</td>\n",
       "      <td>NaN</td>\n",
       "      <td>NaN</td>\n",
       "      <td>Japan</td>\n",
       "      <td>NaN</td>\n",
       "      <td>2009</td>\n",
       "      <td>TV-14</td>\n",
       "      <td>1 Season</td>\n",
       "      <td>Anime, Drama, International</td>\n",
       "      <td>The devastation is unleashed in the span of se...</td>\n",
       "    </tr>\n",
       "  </tbody>\n",
       "</table>\n",
       "<p>3073 rows × 12 columns</p>\n",
       "</div>"
      ],
      "text/plain": [
       "     show_id     type                           title director  cast  \\\n",
       "0         s1    Movie  Ricky Velez: Here's Everything      NaN   NaN   \n",
       "1         s2    Movie                    Silent Night      NaN   NaN   \n",
       "2         s3    Movie                    The Marksman      NaN   NaN   \n",
       "3         s4    Movie                            Gaia      NaN   NaN   \n",
       "4         s5    Movie                        Settlers      NaN   NaN   \n",
       "...      ...      ...                             ...      ...   ...   \n",
       "3068   s3069  TV Show  Star Trek: The Original Series      NaN   NaN   \n",
       "3069   s3070  TV Show              Star Trek: Voyager      NaN   NaN   \n",
       "3070   s3071  TV Show                       The Fades      NaN   NaN   \n",
       "3071   s3072  TV Show               The Twilight Zone      NaN   NaN   \n",
       "3072   s3073  TV Show             Tokyo Magnitude 8.0      NaN   NaN   \n",
       "\n",
       "             country        date_added  release_year rating   duration  \\\n",
       "0                NaN  October 24, 2021          2021  TV-MA        NaN   \n",
       "1                NaN  October 23, 2021          2020    NaN     94 min   \n",
       "2                NaN  October 23, 2021          2021  PG-13    108 min   \n",
       "3                NaN  October 22, 2021          2021      R     97 min   \n",
       "4                NaN  October 22, 2021          2021    NaN    104 min   \n",
       "...              ...               ...           ...    ...        ...   \n",
       "3068   United States               NaN          1966  TV-PG  3 Seasons   \n",
       "3069   United States               NaN          1997  TV-PG  7 Seasons   \n",
       "3070  United Kingdom               NaN          2011  TV-14   1 Season   \n",
       "3071   United States               NaN          1959  TV-PG  5 Seasons   \n",
       "3072           Japan               NaN          2009  TV-14   1 Season   \n",
       "\n",
       "                                   listed_in  \\\n",
       "0                           Comedy, Stand Up   \n",
       "1                     Crime, Drama, Thriller   \n",
       "2                           Action, Thriller   \n",
       "3                                     Horror   \n",
       "4                  Science Fiction, Thriller   \n",
       "...                                      ...   \n",
       "3068             Action, Adventure, Classics   \n",
       "3069      Action, Adventure, Science Fiction   \n",
       "3070  Horror, International, Science Fiction   \n",
       "3071     Classics, Science Fiction, Thriller   \n",
       "3072             Anime, Drama, International   \n",
       "\n",
       "                                            description  \n",
       "0     ​Comedian Ricky Velez bares it all with his ho...  \n",
       "1     Mark, a low end South London hitman recently r...  \n",
       "2     A hardened Arizona rancher tries to protect an...  \n",
       "3     A forest ranger and two survivalists with a cu...  \n",
       "4     Mankind's earliest settlers on the Martian fro...  \n",
       "...                                                 ...  \n",
       "3068  The 23rd century adventures of Captain James T...  \n",
       "3069  Catapulted into the distant sector of the gala...  \n",
       "3070  Seventeen-year-old Paul is haunted by apocalyp...  \n",
       "3071  Rod Serling's seminal anthology series focused...  \n",
       "3072  The devastation is unleashed in the span of se...  \n",
       "\n",
       "[3073 rows x 12 columns]"
      ]
     },
     "execution_count": 2,
     "metadata": {},
     "output_type": "execute_result"
    }
   ],
   "source": [
    "#read data\n",
    "hulu = pd.read_csv('hulu_titles.csv')\n",
    "hulu"
   ]
  },
  {
   "cell_type": "code",
   "execution_count": 3,
   "id": "bf44b3af-5502-47fc-97f4-96fe8293fa04",
   "metadata": {},
   "outputs": [
    {
     "data": {
      "text/html": [
       "<div>\n",
       "<style scoped>\n",
       "    .dataframe tbody tr th:only-of-type {\n",
       "        vertical-align: middle;\n",
       "    }\n",
       "\n",
       "    .dataframe tbody tr th {\n",
       "        vertical-align: top;\n",
       "    }\n",
       "\n",
       "    .dataframe thead th {\n",
       "        text-align: right;\n",
       "    }\n",
       "</style>\n",
       "<table border=\"1\" class=\"dataframe\">\n",
       "  <thead>\n",
       "    <tr style=\"text-align: right;\">\n",
       "      <th></th>\n",
       "      <th>cast</th>\n",
       "      <th>release_year</th>\n",
       "    </tr>\n",
       "  </thead>\n",
       "  <tbody>\n",
       "    <tr>\n",
       "      <th>count</th>\n",
       "      <td>0.0</td>\n",
       "      <td>3073.000000</td>\n",
       "    </tr>\n",
       "    <tr>\n",
       "      <th>mean</th>\n",
       "      <td>NaN</td>\n",
       "      <td>2012.567524</td>\n",
       "    </tr>\n",
       "    <tr>\n",
       "      <th>std</th>\n",
       "      <td>NaN</td>\n",
       "      <td>10.844069</td>\n",
       "    </tr>\n",
       "    <tr>\n",
       "      <th>min</th>\n",
       "      <td>NaN</td>\n",
       "      <td>1923.000000</td>\n",
       "    </tr>\n",
       "    <tr>\n",
       "      <th>25%</th>\n",
       "      <td>NaN</td>\n",
       "      <td>2010.000000</td>\n",
       "    </tr>\n",
       "    <tr>\n",
       "      <th>50%</th>\n",
       "      <td>NaN</td>\n",
       "      <td>2016.000000</td>\n",
       "    </tr>\n",
       "    <tr>\n",
       "      <th>75%</th>\n",
       "      <td>NaN</td>\n",
       "      <td>2019.000000</td>\n",
       "    </tr>\n",
       "    <tr>\n",
       "      <th>max</th>\n",
       "      <td>NaN</td>\n",
       "      <td>2021.000000</td>\n",
       "    </tr>\n",
       "  </tbody>\n",
       "</table>\n",
       "</div>"
      ],
      "text/plain": [
       "       cast  release_year\n",
       "count   0.0   3073.000000\n",
       "mean    NaN   2012.567524\n",
       "std     NaN     10.844069\n",
       "min     NaN   1923.000000\n",
       "25%     NaN   2010.000000\n",
       "50%     NaN   2016.000000\n",
       "75%     NaN   2019.000000\n",
       "max     NaN   2021.000000"
      ]
     },
     "execution_count": 3,
     "metadata": {},
     "output_type": "execute_result"
    }
   ],
   "source": [
    "hulu.describe()"
   ]
  },
  {
   "cell_type": "code",
   "execution_count": 4,
   "id": "32230653-5399-45f9-b3ed-0ba23b8c88f3",
   "metadata": {},
   "outputs": [
    {
     "data": {
      "text/plain": [
       "show_id          object\n",
       "type             object\n",
       "title            object\n",
       "director         object\n",
       "cast            float64\n",
       "country          object\n",
       "date_added       object\n",
       "release_year      int64\n",
       "rating           object\n",
       "duration         object\n",
       "listed_in        object\n",
       "description      object\n",
       "dtype: object"
      ]
     },
     "execution_count": 4,
     "metadata": {},
     "output_type": "execute_result"
    }
   ],
   "source": [
    "#overview\n",
    "hulu.dtypes"
   ]
  },
  {
   "cell_type": "code",
   "execution_count": 5,
   "id": "286ee2b1-3fcf-459f-82ce-80a3784f2010",
   "metadata": {},
   "outputs": [
    {
     "data": {
      "text/plain": [
       "(3073, 12)"
      ]
     },
     "execution_count": 5,
     "metadata": {},
     "output_type": "execute_result"
    }
   ],
   "source": [
    "hulu.shape"
   ]
  },
  {
   "cell_type": "code",
   "execution_count": 6,
   "id": "152105ab-f381-45db-b402-0b8c97ecaba0",
   "metadata": {},
   "outputs": [
    {
     "name": "stdout",
     "output_type": "stream",
     "text": [
      "<class 'pandas.core.frame.DataFrame'>\n",
      "RangeIndex: 3073 entries, 0 to 3072\n",
      "Data columns (total 12 columns):\n",
      " #   Column        Non-Null Count  Dtype  \n",
      "---  ------        --------------  -----  \n",
      " 0   show_id       3073 non-null   object \n",
      " 1   type          3073 non-null   object \n",
      " 2   title         3073 non-null   object \n",
      " 3   director      3 non-null      object \n",
      " 4   cast          0 non-null      float64\n",
      " 5   country       1620 non-null   object \n",
      " 6   date_added    3045 non-null   object \n",
      " 7   release_year  3073 non-null   int64  \n",
      " 8   rating        2553 non-null   object \n",
      " 9   duration      2594 non-null   object \n",
      " 10  listed_in     3073 non-null   object \n",
      " 11  description   3069 non-null   object \n",
      "dtypes: float64(1), int64(1), object(10)\n",
      "memory usage: 288.2+ KB\n"
     ]
    }
   ],
   "source": [
    "hulu.info()"
   ]
  },
  {
   "cell_type": "code",
   "execution_count": 7,
   "id": "a273199f-01a5-456c-ba50-9c76234f2b1e",
   "metadata": {},
   "outputs": [
    {
     "data": {
      "text/plain": [
       "show_id         3073\n",
       "type               2\n",
       "title           3073\n",
       "director           3\n",
       "cast               0\n",
       "country          150\n",
       "date_added      1115\n",
       "release_year      72\n",
       "rating            88\n",
       "duration         135\n",
       "listed_in        442\n",
       "description     3057\n",
       "dtype: int64"
      ]
     },
     "execution_count": 7,
     "metadata": {},
     "output_type": "execute_result"
    }
   ],
   "source": [
    "hulu.nunique()"
   ]
  },
  {
   "cell_type": "code",
   "execution_count": 9,
   "id": "c7c0e64d-b6ed-426e-8bfb-51fea91777a7",
   "metadata": {},
   "outputs": [
    {
     "data": {
      "text/plain": [
       "True"
      ]
     },
     "execution_count": 9,
     "metadata": {},
     "output_type": "execute_result"
    }
   ],
   "source": [
    "hulu.isnull().values.any()"
   ]
  },
  {
   "cell_type": "code",
   "execution_count": 10,
   "id": "e6af361e-a8d9-4ec5-863f-960a2af45f96",
   "metadata": {},
   "outputs": [
    {
     "data": {
      "text/plain": [
       "8627"
      ]
     },
     "execution_count": 10,
     "metadata": {},
     "output_type": "execute_result"
    }
   ],
   "source": [
    "hulu.isnull().sum().sum()"
   ]
  },
  {
   "cell_type": "code",
   "execution_count": 11,
   "id": "be7eded0-c9b0-497f-aed4-37efab03f494",
   "metadata": {},
   "outputs": [
    {
     "data": {
      "image/png": "[encoded data removed]",
      "text/plain": [
       "<Figure size 432x288 with 1 Axes>"
      ]
     },
     "metadata": {},
     "output_type": "display_data"
    }
   ],
   "source": [
    "sns.heatmap(hulu.isnull(), cbar=False)\n",
    "plt.title('Null Values Heatmap')\n",
    "plt.show()"
   ]
  },
  {
   "cell_type": "code",
   "execution_count": 12,
   "id": "d2703a8f-ba93-4c0d-85be-841dd78cb219",
   "metadata": {},
   "outputs": [
    {
     "data": {
      "text/plain": [
       "show_id            0\n",
       "type               0\n",
       "title              0\n",
       "director        3070\n",
       "cast            3073\n",
       "country         1453\n",
       "date_added        28\n",
       "release_year       0\n",
       "rating           520\n",
       "duration         479\n",
       "listed_in          0\n",
       "description        4\n",
       "dtype: int64"
      ]
     },
     "execution_count": 12,
     "metadata": {},
     "output_type": "execute_result"
    }
   ],
   "source": [
    "hulu.isnull().sum()"
   ]
  },
  {
   "cell_type": "code",
   "execution_count": 13,
   "id": "7eac82ba-e624-4204-80d9-40a2bcc38d3d",
   "metadata": {},
   "outputs": [],
   "source": [
    "hulu['director'].fillna('No Director', inplace=True)\n",
    "hulu['cast'].fillna('No Cast', inplace=True)\n",
    "hulu['country'].fillna('Country Unavailable', inplace=True)\n",
    "hulu.dropna(subset=['date_added','rating'],inplace=True)"
   ]
  },
  {
   "cell_type": "code",
   "execution_count": 14,
   "id": "927dea8b-d42f-4ef2-8b79-631591297713",
   "metadata": {},
   "outputs": [
    {
     "data": {
      "text/plain": [
       "show_id         False\n",
       "type            False\n",
       "title           False\n",
       "director        False\n",
       "cast            False\n",
       "country         False\n",
       "date_added      False\n",
       "release_year    False\n",
       "rating          False\n",
       "duration         True\n",
       "listed_in       False\n",
       "description      True\n",
       "dtype: bool"
      ]
     },
     "execution_count": 14,
     "metadata": {},
     "output_type": "execute_result"
    }
   ],
   "source": [
    "hulu.isnull().any()"
   ]
  },
  {
   "cell_type": "code",
   "execution_count": 15,
   "id": "c476af7d-82a7-4477-8891-db98d9db8dcf",
   "metadata": {},
   "outputs": [
    {
     "data": {
      "text/html": [
       "<div>\n",
       "<style scoped>\n",
       "    .dataframe tbody tr th:only-of-type {\n",
       "        vertical-align: middle;\n",
       "    }\n",
       "\n",
       "    .dataframe tbody tr th {\n",
       "        vertical-align: top;\n",
       "    }\n",
       "\n",
       "    .dataframe thead th {\n",
       "        text-align: right;\n",
       "    }\n",
       "</style>\n",
       "<table border=\"1\" class=\"dataframe\">\n",
       "  <thead>\n",
       "    <tr style=\"text-align: right;\">\n",
       "      <th></th>\n",
       "      <th>show_id</th>\n",
       "      <th>type</th>\n",
       "      <th>title</th>\n",
       "      <th>director</th>\n",
       "      <th>cast</th>\n",
       "      <th>country</th>\n",
       "      <th>date_added</th>\n",
       "      <th>release_year</th>\n",
       "      <th>rating</th>\n",
       "      <th>duration</th>\n",
       "      <th>listed_in</th>\n",
       "      <th>description</th>\n",
       "    </tr>\n",
       "  </thead>\n",
       "  <tbody>\n",
       "    <tr>\n",
       "      <th>8</th>\n",
       "      <td>s9</td>\n",
       "      <td>TV Show</td>\n",
       "      <td>Queens</td>\n",
       "      <td>No Director</td>\n",
       "      <td>No Cast</td>\n",
       "      <td>Country Unavailable</td>\n",
       "      <td>October 20, 2021</td>\n",
       "      <td>2021</td>\n",
       "      <td>TV-14</td>\n",
       "      <td>1 Season</td>\n",
       "      <td>Drama, Music</td>\n",
       "      <td>Four women in their 40s reunite for a chance t...</td>\n",
       "    </tr>\n",
       "    <tr>\n",
       "      <th>9</th>\n",
       "      <td>s10</td>\n",
       "      <td>TV Show</td>\n",
       "      <td>The Bachelorette</td>\n",
       "      <td>No Director</td>\n",
       "      <td>No Cast</td>\n",
       "      <td>United States</td>\n",
       "      <td>October 20, 2021</td>\n",
       "      <td>2003</td>\n",
       "      <td>TV-14</td>\n",
       "      <td>3 Seasons</td>\n",
       "      <td>Reality, Romance</td>\n",
       "      <td>ABC's romance reality show lets one lucky lady...</td>\n",
       "    </tr>\n",
       "    <tr>\n",
       "      <th>14</th>\n",
       "      <td>s15</td>\n",
       "      <td>TV Show</td>\n",
       "      <td>Home Sweet Home</td>\n",
       "      <td>No Director</td>\n",
       "      <td>No Cast</td>\n",
       "      <td>Country Unavailable</td>\n",
       "      <td>October 16, 2021</td>\n",
       "      <td>2021</td>\n",
       "      <td>TV-PG</td>\n",
       "      <td>1 Season</td>\n",
       "      <td>Reality</td>\n",
       "      <td>Real families of different backgrounds experie...</td>\n",
       "    </tr>\n",
       "    <tr>\n",
       "      <th>16</th>\n",
       "      <td>s17</td>\n",
       "      <td>TV Show</td>\n",
       "      <td>Showtime Championship Boxing: Wilder vs. Molina</td>\n",
       "      <td>No Director</td>\n",
       "      <td>No Cast</td>\n",
       "      <td>Country Unavailable</td>\n",
       "      <td>October 16, 2021</td>\n",
       "      <td>2015</td>\n",
       "      <td>TV-14</td>\n",
       "      <td>1 Season</td>\n",
       "      <td>Sports</td>\n",
       "      <td>Champion Deontay Wilder vs. Eric Molina. Live ...</td>\n",
       "    </tr>\n",
       "    <tr>\n",
       "      <th>17</th>\n",
       "      <td>s18</td>\n",
       "      <td>TV Show</td>\n",
       "      <td>America's Book of Secrets</td>\n",
       "      <td>No Director</td>\n",
       "      <td>No Cast</td>\n",
       "      <td>United States</td>\n",
       "      <td>October 15, 2021</td>\n",
       "      <td>2012</td>\n",
       "      <td>TV-14</td>\n",
       "      <td>1 Season</td>\n",
       "      <td>Documentaries, History</td>\n",
       "      <td>America's story can be told in many ways. Whil...</td>\n",
       "    </tr>\n",
       "  </tbody>\n",
       "</table>\n",
       "</div>"
      ],
      "text/plain": [
       "   show_id     type                                            title  \\\n",
       "8       s9  TV Show                                           Queens   \n",
       "9      s10  TV Show                                 The Bachelorette   \n",
       "14     s15  TV Show                                  Home Sweet Home   \n",
       "16     s17  TV Show  Showtime Championship Boxing: Wilder vs. Molina   \n",
       "17     s18  TV Show                        America's Book of Secrets   \n",
       "\n",
       "       director     cast              country        date_added  release_year  \\\n",
       "8   No Director  No Cast  Country Unavailable  October 20, 2021          2021   \n",
       "9   No Director  No Cast        United States  October 20, 2021          2003   \n",
       "14  No Director  No Cast  Country Unavailable  October 16, 2021          2021   \n",
       "16  No Director  No Cast  Country Unavailable  October 16, 2021          2015   \n",
       "17  No Director  No Cast        United States  October 15, 2021          2012   \n",
       "\n",
       "   rating   duration               listed_in  \\\n",
       "8   TV-14   1 Season            Drama, Music   \n",
       "9   TV-14  3 Seasons        Reality, Romance   \n",
       "14  TV-PG   1 Season                 Reality   \n",
       "16  TV-14   1 Season                  Sports   \n",
       "17  TV-14   1 Season  Documentaries, History   \n",
       "\n",
       "                                          description  \n",
       "8   Four women in their 40s reunite for a chance t...  \n",
       "9   ABC's romance reality show lets one lucky lady...  \n",
       "14  Real families of different backgrounds experie...  \n",
       "16  Champion Deontay Wilder vs. Eric Molina. Live ...  \n",
       "17  America's story can be told in many ways. Whil...  "
      ]
     },
     "execution_count": 15,
     "metadata": {},
     "output_type": "execute_result"
    }
   ],
   "source": [
    "hulu_shows = hulu[hulu['type']=='TV Show'].copy()\n",
    "hulu_shows.head()"
   ]
  },
  {
   "cell_type": "code",
   "execution_count": 16,
   "id": "9859de1e-1a02-4bf2-8fd5-facdf526b71c",
   "metadata": {},
   "outputs": [
    {
     "data": {
      "text/html": [
       "<div>\n",
       "<style scoped>\n",
       "    .dataframe tbody tr th:only-of-type {\n",
       "        vertical-align: middle;\n",
       "    }\n",
       "\n",
       "    .dataframe tbody tr th {\n",
       "        vertical-align: top;\n",
       "    }\n",
       "\n",
       "    .dataframe thead th {\n",
       "        text-align: right;\n",
       "    }\n",
       "</style>\n",
       "<table border=\"1\" class=\"dataframe\">\n",
       "  <thead>\n",
       "    <tr style=\"text-align: right;\">\n",
       "      <th></th>\n",
       "      <th>show_id</th>\n",
       "      <th>type</th>\n",
       "      <th>title</th>\n",
       "      <th>director</th>\n",
       "      <th>cast</th>\n",
       "      <th>country</th>\n",
       "      <th>date_added</th>\n",
       "      <th>release_year</th>\n",
       "      <th>rating</th>\n",
       "      <th>duration</th>\n",
       "      <th>listed_in</th>\n",
       "      <th>description</th>\n",
       "    </tr>\n",
       "  </thead>\n",
       "  <tbody>\n",
       "    <tr>\n",
       "      <th>0</th>\n",
       "      <td>s1</td>\n",
       "      <td>Movie</td>\n",
       "      <td>Ricky Velez: Here's Everything</td>\n",
       "      <td>No Director</td>\n",
       "      <td>No Cast</td>\n",
       "      <td>Country Unavailable</td>\n",
       "      <td>October 24, 2021</td>\n",
       "      <td>2021</td>\n",
       "      <td>TV-MA</td>\n",
       "      <td>NaN</td>\n",
       "      <td>Comedy, Stand Up</td>\n",
       "      <td>​Comedian Ricky Velez bares it all with his ho...</td>\n",
       "    </tr>\n",
       "    <tr>\n",
       "      <th>2</th>\n",
       "      <td>s3</td>\n",
       "      <td>Movie</td>\n",
       "      <td>The Marksman</td>\n",
       "      <td>No Director</td>\n",
       "      <td>No Cast</td>\n",
       "      <td>Country Unavailable</td>\n",
       "      <td>October 23, 2021</td>\n",
       "      <td>2021</td>\n",
       "      <td>PG-13</td>\n",
       "      <td>108 min</td>\n",
       "      <td>Action, Thriller</td>\n",
       "      <td>A hardened Arizona rancher tries to protect an...</td>\n",
       "    </tr>\n",
       "    <tr>\n",
       "      <th>3</th>\n",
       "      <td>s4</td>\n",
       "      <td>Movie</td>\n",
       "      <td>Gaia</td>\n",
       "      <td>No Director</td>\n",
       "      <td>No Cast</td>\n",
       "      <td>Country Unavailable</td>\n",
       "      <td>October 22, 2021</td>\n",
       "      <td>2021</td>\n",
       "      <td>R</td>\n",
       "      <td>97 min</td>\n",
       "      <td>Horror</td>\n",
       "      <td>A forest ranger and two survivalists with a cu...</td>\n",
       "    </tr>\n",
       "    <tr>\n",
       "      <th>11</th>\n",
       "      <td>s12</td>\n",
       "      <td>Movie</td>\n",
       "      <td>Dream Horse</td>\n",
       "      <td>No Director</td>\n",
       "      <td>No Cast</td>\n",
       "      <td>Country Unavailable</td>\n",
       "      <td>October 18, 2021</td>\n",
       "      <td>2020</td>\n",
       "      <td>PG</td>\n",
       "      <td>113 min</td>\n",
       "      <td>Comedy, Drama</td>\n",
       "      <td>The film tells the inspiring true story of a s...</td>\n",
       "    </tr>\n",
       "    <tr>\n",
       "      <th>20</th>\n",
       "      <td>s21</td>\n",
       "      <td>Movie</td>\n",
       "      <td>Cheer Camp Killer</td>\n",
       "      <td>No Director</td>\n",
       "      <td>No Cast</td>\n",
       "      <td>Country Unavailable</td>\n",
       "      <td>October 15, 2021</td>\n",
       "      <td>2020</td>\n",
       "      <td>TV-14</td>\n",
       "      <td>87 min</td>\n",
       "      <td>Thriller</td>\n",
       "      <td>Camp queen bee Victoria does not take kindly t...</td>\n",
       "    </tr>\n",
       "  </tbody>\n",
       "</table>\n",
       "</div>"
      ],
      "text/plain": [
       "   show_id   type                           title     director     cast  \\\n",
       "0       s1  Movie  Ricky Velez: Here's Everything  No Director  No Cast   \n",
       "2       s3  Movie                    The Marksman  No Director  No Cast   \n",
       "3       s4  Movie                            Gaia  No Director  No Cast   \n",
       "11     s12  Movie                     Dream Horse  No Director  No Cast   \n",
       "20     s21  Movie               Cheer Camp Killer  No Director  No Cast   \n",
       "\n",
       "                country        date_added  release_year rating duration  \\\n",
       "0   Country Unavailable  October 24, 2021          2021  TV-MA      NaN   \n",
       "2   Country Unavailable  October 23, 2021          2021  PG-13  108 min   \n",
       "3   Country Unavailable  October 22, 2021          2021      R   97 min   \n",
       "11  Country Unavailable  October 18, 2021          2020     PG  113 min   \n",
       "20  Country Unavailable  October 15, 2021          2020  TV-14   87 min   \n",
       "\n",
       "           listed_in                                        description  \n",
       "0   Comedy, Stand Up  ​Comedian Ricky Velez bares it all with his ho...  \n",
       "2   Action, Thriller  A hardened Arizona rancher tries to protect an...  \n",
       "3             Horror  A forest ranger and two survivalists with a cu...  \n",
       "11     Comedy, Drama  The film tells the inspiring true story of a s...  \n",
       "20          Thriller  Camp queen bee Victoria does not take kindly t...  "
      ]
     },
     "execution_count": 16,
     "metadata": {},
     "output_type": "execute_result"
    }
   ],
   "source": [
    "hulu_movies = hulu[hulu['type']=='Movie'].copy()\n",
    "hulu_movies.head()"
   ]
  },
  {
   "cell_type": "code",
   "execution_count": 17,
   "id": "f15b7593-f9a6-4cbb-ad41-5c23858162ba",
   "metadata": {},
   "outputs": [
    {
     "name": "stderr",
     "output_type": "stream",
     "text": [
      "C:\\Users\\MSI\\anaconda3\\lib\\site-packages\\seaborn\\_decorators.py:43: FutureWarning: Pass the following variable as a keyword arg: x. From version 0.12, the only valid positional argument will be `data`, and passing other arguments without an explicit keyword will result in an error or misinterpretation.\n",
      "  FutureWarning\n"
     ]
    },
    {
     "data": {
      "image/png": "[encoded data removed]",
      "text/plain": [
       "<Figure size 504x360 with 1 Axes>"
      ]
     },
     "metadata": {},
     "output_type": "display_data"
    }
   ],
   "source": [
    "plt.figure(figsize=(7,5))\n",
    "g = sns.countplot(hulu.type, palette=\"pastel\");\n",
    "plt.title(\"Count of Movies and TV Shows\")\n",
    "plt.xlabel(\"Type (Movie/TV Show)\")\n",
    "plt.ylabel(\"Total Count\")\n",
    "plt.show()"
   ]
  },
  {
   "cell_type": "code",
   "execution_count": 19,
   "id": "94f8f5cf-5633-413b-81e1-beecf71ed0fa",
   "metadata": {},
   "outputs": [
    {
     "data": {
      "image/png": "[encoded data removed]",
      "text/plain": [
       "<Figure size 864x432 with 1 Axes>"
      ]
     },
     "metadata": {},
     "output_type": "display_data"
    }
   ],
   "source": [
    "plt.figure(figsize=(12,6))\n",
    "plt.title(\"% of Hulu Titles that are either Movies or TV Shows\")\n",
    "g = plt.pie(hulu.type.value_counts(), explode=(0.025,0.025), labels=hulu.type.value_counts().index, colors=['skyblue','navajowhite'],autopct='%1.1f%%', startangle=180);\n",
    "plt.legend()\n",
    "plt.show()"
   ]
  },
  {
   "cell_type": "code",
   "execution_count": 21,
   "id": "8329f034-a03e-4506-b9d8-2dfdd1272656",
   "metadata": {},
   "outputs": [
    {
     "name": "stderr",
     "output_type": "stream",
     "text": [
      "C:\\Users\\MSI\\anaconda3\\lib\\site-packages\\seaborn\\_decorators.py:43: FutureWarning: Pass the following variable as a keyword arg: x. From version 0.12, the only valid positional argument will be `data`, and passing other arguments without an explicit keyword will result in an error or misinterpretation.\n",
      "  FutureWarning\n"
     ]
    },
    {
     "data": {
      "image/png": "[encoded data removed]",
      "text/plain": [
       "<Figure size 1080x504 with 1 Axes>"
      ]
     },
     "metadata": {},
     "output_type": "display_data"
    }
   ],
   "source": [
    "order =  ['G', 'TV-Y', 'TV-G', 'PG', 'TV-Y7', 'TV-Y7-FV', 'TV-PG', 'PG-13', 'TV-14', 'R', 'NC-17', 'TV-MA']\n",
    "plt.figure(figsize=(15,7))\n",
    "g = sns.countplot(hulu.rating, hue=hulu.type, order=order, palette=\"pastel\");\n",
    "plt.title(\"Ratings for Movies & TV Shows\")\n",
    "plt.xlabel(\"Rating\")\n",
    "plt.ylabel(\"Total Count\")\n",
    "plt.show()\n"
   ]
  },
  {
   "cell_type": "code",
   "execution_count": 22,
   "id": "13fd7db3-10d7-4041-b36c-f22e8d0afbf3",
   "metadata": {},
   "outputs": [
    {
     "name": "stderr",
     "output_type": "stream",
     "text": [
      "C:\\Users\\MSI\\anaconda3\\lib\\site-packages\\seaborn\\_decorators.py:43: FutureWarning: Pass the following variable as a keyword arg: x. From version 0.12, the only valid positional argument will be `data`, and passing other arguments without an explicit keyword will result in an error or misinterpretation.\n",
      "  FutureWarning\n",
      "C:\\Users\\MSI\\anaconda3\\lib\\site-packages\\seaborn\\_decorators.py:43: FutureWarning: Pass the following variable as a keyword arg: x. From version 0.12, the only valid positional argument will be `data`, and passing other arguments without an explicit keyword will result in an error or misinterpretation.\n",
      "  FutureWarning\n",
      "C:\\Users\\MSI\\anaconda3\\lib\\site-packages\\ipykernel_launcher.py:11: UserWarning: Matplotlib is currently using module://ipykernel.pylab.backend_inline, which is a non-GUI backend, so cannot show the figure.\n",
      "  # This is added back by InteractiveShellApp.init_path()\n"
     ]
    },
    {
     "data": {
      "image/png": "[encoded data removed]",
      "text/plain": [
       "<Figure size 1368x360 with 2 Axes>"
      ]
     },
     "metadata": {},
     "output_type": "display_data"
    }
   ],
   "source": [
    "fig, ax = plt.subplots(1,2, figsize=(19, 5))\n",
    "g1 = sns.countplot(hulu_movies.rating, order=order,palette=\"Set2\", ax=ax[0]);\n",
    "g1.set_title(\"Ratings for Movies\")\n",
    "g1.set_xlabel(\"Rating\")\n",
    "g1.set_ylabel(\"Total Count\")\n",
    "g2 = sns.countplot(hulu_shows.rating, order=order,palette=\"Set2\", ax=ax[1]);\n",
    "g2.set(yticks=np.arange(0,1600,200))\n",
    "g2.set_title(\"Ratings for TV Shows\")\n",
    "g2.set_xlabel(\"Rating\")\n",
    "g2.set_ylabel(\"Total Count\")\n",
    "fig.show()"
   ]
  },
  {
   "cell_type": "code",
   "execution_count": 24,
   "id": "d44469d4-ca29-47fe-8e29-a74f53fffbc9",
   "metadata": {},
   "outputs": [],
   "source": [
    "hulu['year_added'] = pd.DatetimeIndex(hulu['date_added']).year\n",
    "hulu_movies['year_added'] = pd.DatetimeIndex(hulu_movies['date_added']).year\n",
    "hulu_shows['year_added'] = pd.DatetimeIndex(hulu_shows['date_added']).year\n",
    "hulu['month_added'] = pd.DatetimeIndex(hulu['date_added']).month\n",
    "hulu_movies['month_added'] = pd.DatetimeIndex(hulu_movies['date_added']).month\n",
    "hulu_shows['month_added'] = pd.DatetimeIndex(hulu_shows['date_added']).month"
   ]
  },
  {
   "cell_type": "code",
   "execution_count": 25,
   "id": "30b63824-45da-466e-8fe7-b4f77d0ba274",
   "metadata": {},
   "outputs": [
    {
     "data": {
      "text/html": [
       "<div>\n",
       "<style scoped>\n",
       "    .dataframe tbody tr th:only-of-type {\n",
       "        vertical-align: middle;\n",
       "    }\n",
       "\n",
       "    .dataframe tbody tr th {\n",
       "        vertical-align: top;\n",
       "    }\n",
       "\n",
       "    .dataframe thead th {\n",
       "        text-align: right;\n",
       "    }\n",
       "</style>\n",
       "<table border=\"1\" class=\"dataframe\">\n",
       "  <thead>\n",
       "    <tr style=\"text-align: right;\">\n",
       "      <th></th>\n",
       "      <th>year</th>\n",
       "      <th>count</th>\n",
       "    </tr>\n",
       "  </thead>\n",
       "  <tbody>\n",
       "    <tr>\n",
       "      <th>0</th>\n",
       "      <td>2021</td>\n",
       "      <td>761</td>\n",
       "    </tr>\n",
       "    <tr>\n",
       "      <th>1</th>\n",
       "      <td>2020</td>\n",
       "      <td>687</td>\n",
       "    </tr>\n",
       "    <tr>\n",
       "      <th>2</th>\n",
       "      <td>2019</td>\n",
       "      <td>365</td>\n",
       "    </tr>\n",
       "    <tr>\n",
       "      <th>3</th>\n",
       "      <td>2018</td>\n",
       "      <td>247</td>\n",
       "    </tr>\n",
       "    <tr>\n",
       "      <th>4</th>\n",
       "      <td>2017</td>\n",
       "      <td>195</td>\n",
       "    </tr>\n",
       "    <tr>\n",
       "      <th>5</th>\n",
       "      <td>2015</td>\n",
       "      <td>68</td>\n",
       "    </tr>\n",
       "    <tr>\n",
       "      <th>6</th>\n",
       "      <td>2016</td>\n",
       "      <td>66</td>\n",
       "    </tr>\n",
       "    <tr>\n",
       "      <th>7</th>\n",
       "      <td>2014</td>\n",
       "      <td>49</td>\n",
       "    </tr>\n",
       "    <tr>\n",
       "      <th>8</th>\n",
       "      <td>2013</td>\n",
       "      <td>34</td>\n",
       "    </tr>\n",
       "    <tr>\n",
       "      <th>9</th>\n",
       "      <td>2012</td>\n",
       "      <td>16</td>\n",
       "    </tr>\n",
       "    <tr>\n",
       "      <th>10</th>\n",
       "      <td>2011</td>\n",
       "      <td>16</td>\n",
       "    </tr>\n",
       "    <tr>\n",
       "      <th>11</th>\n",
       "      <td>2010</td>\n",
       "      <td>11</td>\n",
       "    </tr>\n",
       "    <tr>\n",
       "      <th>12</th>\n",
       "      <td>2009</td>\n",
       "      <td>7</td>\n",
       "    </tr>\n",
       "    <tr>\n",
       "      <th>13</th>\n",
       "      <td>2008</td>\n",
       "      <td>2</td>\n",
       "    </tr>\n",
       "    <tr>\n",
       "      <th>14</th>\n",
       "      <td>2006</td>\n",
       "      <td>1</td>\n",
       "    </tr>\n",
       "  </tbody>\n",
       "</table>\n",
       "</div>"
      ],
      "text/plain": [
       "    year  count\n",
       "0   2021    761\n",
       "1   2020    687\n",
       "2   2019    365\n",
       "3   2018    247\n",
       "4   2017    195\n",
       "5   2015     68\n",
       "6   2016     66\n",
       "7   2014     49\n",
       "8   2013     34\n",
       "9   2012     16\n",
       "10  2011     16\n",
       "11  2010     11\n",
       "12  2009      7\n",
       "13  2008      2\n",
       "14  2006      1"
      ]
     },
     "execution_count": 25,
     "metadata": {},
     "output_type": "execute_result"
    }
   ],
   "source": [
    "hulu_year = hulu['year_added'].value_counts().to_frame().reset_index().rename(columns={'index': 'year','year_added':'count'})\n",
    "hulu_year = hulu_year[hulu_year.year != 2022]\n",
    "hulu_year"
   ]
  },
  {
   "cell_type": "code",
   "execution_count": 26,
   "id": "326f514c-6998-4c6a-b0c3-5fa199630ba0",
   "metadata": {},
   "outputs": [],
   "source": [
    "hulu_year2 = hulu[['type','year_added']]\n",
    "movie_year = hulu_year2[hulu_year2['type']=='Movie'].year_added.value_counts().to_frame().reset_index().rename(columns={'index': 'year','year_added':'count'})\n",
    "movie_year = movie_year[movie_year.year != 2022]\n",
    "show_year = hulu_year2[hulu_year2['type']=='TV Show'].year_added.value_counts().to_frame().reset_index().rename(columns={'index': 'year','year_added':'count'})\n",
    "show_year = show_year[show_year.year != 2022]"
   ]
  },
  {
   "cell_type": "code",
   "execution_count": 28,
   "id": "de62ca1f-d7f3-4a13-8093-b1a4dd016ee2",
   "metadata": {},
   "outputs": [
    {
     "data": {
      "image/png": "[encoded data removed]",
      "text/plain": [
       "<Figure size 720x432 with 1 Axes>"
      ]
     },
     "metadata": {},
     "output_type": "display_data"
    }
   ],
   "source": [
    "ig, ax = plt.subplots(figsize=(10, 6))\n",
    "sns.lineplot(data=hulu_year, x='year', y='count')\n",
    "sns.lineplot(data=movie_year, x='year', y='count')\n",
    "sns.lineplot(data=show_year, x='year', y='count')\n",
    "ax.set_xticks(np.arange(2006, 2022, 1))\n",
    "plt.title(\"Total content added each year (up to 2022)\")\n",
    "plt.legend(['Total','Movie','TV Show'])\n",
    "plt.ylabel(\"Releases\")\n",
    "plt.xlabel(\"Year\")\n",
    "plt.show()"
   ]
  },
  {
   "cell_type": "code",
   "execution_count": 29,
   "id": "4a19a65e-ee14-4c62-8a78-e363f4dd8c6b",
   "metadata": {},
   "outputs": [
    {
     "data": {
      "image/png": "[encoded data removed]",
      "text/plain": [
       "<Figure size 792x576 with 2 Axes>"
      ]
     },
     "metadata": {},
     "output_type": "display_data"
    }
   ],
   "source": [
    "month_year = hulu.groupby('year_added')['month_added'].value_counts().unstack().fillna(0).T\n",
    "\n",
    "plt.figure(figsize=(11,8))\n",
    "sns.heatmap(month_year, linewidths=0.025, cmap=\"YlGnBu\")\n",
    "plt.title(\"Content Heatmap\")\n",
    "plt.ylabel(\"Month\")\n",
    "plt.xlabel(\"Year\")\n",
    "plt.show()"
   ]
  },
  {
   "cell_type": "code",
   "execution_count": 31,
   "id": "edb018d8-36c1-462f-ac2e-92a7406441eb",
   "metadata": {},
   "outputs": [
    {
     "data": {
      "image/png": "[encoded data removed]",
      "text/plain": [
       "<Figure size 504x648 with 1 Axes>"
      ]
     },
     "metadata": {},
     "output_type": "display_data"
    }
   ],
   "source": [
    "filtered_countries = hulu.set_index('title').country.str.split(', ', expand=True).stack().reset_index(level=1, drop=True);\n",
    "filtered_countries = filtered_countries[filtered_countries != 'Country Unavailable']\n",
    "\n",
    "plt.figure(figsize=(7,9))\n",
    "g = sns.countplot(y = filtered_countries, order=filtered_countries.value_counts().index[:20])\n",
    "plt.title('Top 20 Countries on Hulu')\n",
    "plt.xlabel('Titles')\n",
    "plt.ylabel('Country')\n",
    "plt.show()"
   ]
  },
  {
   "cell_type": "code",
   "execution_count": 32,
   "id": "d6b0a339-f4eb-4726-bf14-9b0b3bc1c937",
   "metadata": {},
   "outputs": [
    {
     "data": {
      "image/png": "[encoded data removed]",
      "text/plain": [
       "<Figure size 504x648 with 1 Axes>"
      ]
     },
     "metadata": {},
     "output_type": "display_data"
    }
   ],
   "source": [
    "filtered_genres = hulu.set_index('title').listed_in.str.split(', ', expand=True).stack().reset_index(level=1, drop=True);\n",
    "\n",
    "plt.figure(figsize=(7,9))\n",
    "g = sns.countplot(y = filtered_genres, order=filtered_genres.value_counts().index[:30])\n",
    "plt.title('Top 30 Genres on Hulu')\n",
    "plt.xlabel('Titles')\n",
    "plt.ylabel('Genres')\n",
    "plt.show()"
   ]
  },
  {
   "cell_type": "code",
   "execution_count": null,
   "id": "671ff4ce-4c61-4f0d-bbec-061f28458077",
   "metadata": {},
   "outputs": [],
   "source": []
  }
 ],
 "metadata": {
  "kernelspec": {
   "display_name": "Python 3",
   "language": "python",
   "name": "python3"
  },
  "language_info": {
   "codemirror_mode": {
    "name": "ipython",
    "version": 3
   },
   "file_extension": ".py",
   "mimetype": "text/x-python",
   "name": "python",
   "nbconvert_exporter": "python",
   "pygments_lexer": "ipython3",
   "version": "3.7.10"
  }
 },
 "nbformat": 4,
 "nbformat_minor": 5
}
