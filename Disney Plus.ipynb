{
 "cells": [
  {
   "cell_type": "markdown",
   "id": "507c0a8d-0e14-4aec-95cf-d287c97b0475",
   "metadata": {},
   "source": [
    "# Importing the Dataset"
   ]
  },
  {
   "cell_type": "code",
   "execution_count": 1,
   "id": "4e31540f-0f2d-48e0-a6d9-e390658cab24",
   "metadata": {},
   "outputs": [],
   "source": [
    "import pandas as pd\n",
    "import re\n",
    "import numpy as np\n",
    "import math\n",
    "import matplotlib.pyplot as plt\n",
    "import seaborn as sns\n",
    "sns.set_style(\"darkgrid\")"
   ]
  },
  {
   "cell_type": "markdown",
   "id": "5b27da6d-e814-4d7c-ac03-30cd1f8e3f6f",
   "metadata": {},
   "source": [
    "# Loading the dataset"
   ]
  },
  {
   "cell_type": "code",
   "execution_count": 2,
   "id": "e0a91c5f-f78e-41d0-857f-4011f947f0a6",
   "metadata": {},
   "outputs": [
    {
     "data": {
      "text/html": [
       "<div>\n",
       "<style scoped>\n",
       "    .dataframe tbody tr th:only-of-type {\n",
       "        vertical-align: middle;\n",
       "    }\n",
       "\n",
       "    .dataframe tbody tr th {\n",
       "        vertical-align: top;\n",
       "    }\n",
       "\n",
       "    .dataframe thead th {\n",
       "        text-align: right;\n",
       "    }\n",
       "</style>\n",
       "<table border=\"1\" class=\"dataframe\">\n",
       "  <thead>\n",
       "    <tr style=\"text-align: right;\">\n",
       "      <th></th>\n",
       "      <th>show_id</th>\n",
       "      <th>type</th>\n",
       "      <th>title</th>\n",
       "      <th>director</th>\n",
       "      <th>cast</th>\n",
       "      <th>country</th>\n",
       "      <th>date_added</th>\n",
       "      <th>release_year</th>\n",
       "      <th>rating</th>\n",
       "      <th>duration</th>\n",
       "      <th>listed_in</th>\n",
       "      <th>description</th>\n",
       "    </tr>\n",
       "  </thead>\n",
       "  <tbody>\n",
       "    <tr>\n",
       "      <th>0</th>\n",
       "      <td>s1</td>\n",
       "      <td>Movie</td>\n",
       "      <td>Duck the Halls: A Mickey Mouse Christmas Special</td>\n",
       "      <td>Alonso Ramirez Ramos, Dave Wasson</td>\n",
       "      <td>Chris Diamantopoulos, Tony Anselmo, Tress MacN...</td>\n",
       "      <td>NaN</td>\n",
       "      <td>November 26, 2021</td>\n",
       "      <td>2016</td>\n",
       "      <td>TV-G</td>\n",
       "      <td>23 min</td>\n",
       "      <td>Animation, Family</td>\n",
       "      <td>Join Mickey and the gang as they duck the halls!</td>\n",
       "    </tr>\n",
       "    <tr>\n",
       "      <th>1</th>\n",
       "      <td>s2</td>\n",
       "      <td>Movie</td>\n",
       "      <td>Ernest Saves Christmas</td>\n",
       "      <td>John Cherry</td>\n",
       "      <td>Jim Varney, Noelle Parker, Douglas Seale</td>\n",
       "      <td>NaN</td>\n",
       "      <td>November 26, 2021</td>\n",
       "      <td>1988</td>\n",
       "      <td>PG</td>\n",
       "      <td>91 min</td>\n",
       "      <td>Comedy</td>\n",
       "      <td>Santa Claus passes his magic bag to a new St. ...</td>\n",
       "    </tr>\n",
       "    <tr>\n",
       "      <th>2</th>\n",
       "      <td>s3</td>\n",
       "      <td>Movie</td>\n",
       "      <td>Ice Age: A Mammoth Christmas</td>\n",
       "      <td>Karen Disher</td>\n",
       "      <td>Raymond Albert Romano, John Leguizamo, Denis L...</td>\n",
       "      <td>United States</td>\n",
       "      <td>November 26, 2021</td>\n",
       "      <td>2011</td>\n",
       "      <td>TV-G</td>\n",
       "      <td>23 min</td>\n",
       "      <td>Animation, Comedy, Family</td>\n",
       "      <td>Sid the Sloth is on Santa's naughty list.</td>\n",
       "    </tr>\n",
       "    <tr>\n",
       "      <th>3</th>\n",
       "      <td>s4</td>\n",
       "      <td>Movie</td>\n",
       "      <td>The Queen Family Singalong</td>\n",
       "      <td>Hamish Hamilton</td>\n",
       "      <td>Darren Criss, Adam Lambert, Derek Hough, Alexa...</td>\n",
       "      <td>NaN</td>\n",
       "      <td>November 26, 2021</td>\n",
       "      <td>2021</td>\n",
       "      <td>TV-PG</td>\n",
       "      <td>41 min</td>\n",
       "      <td>Musical</td>\n",
       "      <td>This is real life, not just fantasy!</td>\n",
       "    </tr>\n",
       "    <tr>\n",
       "      <th>4</th>\n",
       "      <td>s5</td>\n",
       "      <td>TV Show</td>\n",
       "      <td>The Beatles: Get Back</td>\n",
       "      <td>NaN</td>\n",
       "      <td>John Lennon, Paul McCartney, George Harrison, ...</td>\n",
       "      <td>NaN</td>\n",
       "      <td>November 25, 2021</td>\n",
       "      <td>2021</td>\n",
       "      <td>NaN</td>\n",
       "      <td>1 Season</td>\n",
       "      <td>Docuseries, Historical, Music</td>\n",
       "      <td>A three-part documentary from Peter Jackson ca...</td>\n",
       "    </tr>\n",
       "    <tr>\n",
       "      <th>...</th>\n",
       "      <td>...</td>\n",
       "      <td>...</td>\n",
       "      <td>...</td>\n",
       "      <td>...</td>\n",
       "      <td>...</td>\n",
       "      <td>...</td>\n",
       "      <td>...</td>\n",
       "      <td>...</td>\n",
       "      <td>...</td>\n",
       "      <td>...</td>\n",
       "      <td>...</td>\n",
       "      <td>...</td>\n",
       "    </tr>\n",
       "    <tr>\n",
       "      <th>1445</th>\n",
       "      <td>s1446</td>\n",
       "      <td>Movie</td>\n",
       "      <td>X-Men Origins: Wolverine</td>\n",
       "      <td>Gavin Hood</td>\n",
       "      <td>Hugh Jackman, Liev Schreiber, Danny Huston, wi...</td>\n",
       "      <td>United States, United Kingdom</td>\n",
       "      <td>June 4, 2021</td>\n",
       "      <td>2009</td>\n",
       "      <td>PG-13</td>\n",
       "      <td>108 min</td>\n",
       "      <td>Action-Adventure, Family, Science Fiction</td>\n",
       "      <td>Wolverine unites with legendary X-Men to fight...</td>\n",
       "    </tr>\n",
       "    <tr>\n",
       "      <th>1446</th>\n",
       "      <td>s1447</td>\n",
       "      <td>Movie</td>\n",
       "      <td>Night at the Museum: Battle of the Smithsonian</td>\n",
       "      <td>Shawn Levy</td>\n",
       "      <td>Ben Stiller, Amy Adams, Owen Wilson, Hank Azar...</td>\n",
       "      <td>United States, Canada</td>\n",
       "      <td>April 2, 2021</td>\n",
       "      <td>2009</td>\n",
       "      <td>PG</td>\n",
       "      <td>106 min</td>\n",
       "      <td>Action-Adventure, Comedy, Family</td>\n",
       "      <td>Larry Daley returns to rescue some old friends...</td>\n",
       "    </tr>\n",
       "    <tr>\n",
       "      <th>1447</th>\n",
       "      <td>s1448</td>\n",
       "      <td>Movie</td>\n",
       "      <td>Eddie the Eagle</td>\n",
       "      <td>Dexter Fletcher</td>\n",
       "      <td>Tom Costello, Jo Hartley, Keith Allen, Dickon ...</td>\n",
       "      <td>United Kingdom, Germany, United States</td>\n",
       "      <td>December 18, 2020</td>\n",
       "      <td>2016</td>\n",
       "      <td>PG-13</td>\n",
       "      <td>107 min</td>\n",
       "      <td>Biographical, Comedy, Drama</td>\n",
       "      <td>True story of Eddie Edwards, a British ski-jum...</td>\n",
       "    </tr>\n",
       "    <tr>\n",
       "      <th>1448</th>\n",
       "      <td>s1449</td>\n",
       "      <td>Movie</td>\n",
       "      <td>Bend It Like Beckham</td>\n",
       "      <td>Gurinder Chadha</td>\n",
       "      <td>Parminder Nagra, Keira Knightley, Jonathan Rhy...</td>\n",
       "      <td>United Kingdom, Germany, United States</td>\n",
       "      <td>September 18, 2020</td>\n",
       "      <td>2003</td>\n",
       "      <td>PG-13</td>\n",
       "      <td>112 min</td>\n",
       "      <td>Buddy, Comedy, Coming of Age</td>\n",
       "      <td>Despite the wishes of their traditional famili...</td>\n",
       "    </tr>\n",
       "    <tr>\n",
       "      <th>1449</th>\n",
       "      <td>s1450</td>\n",
       "      <td>Movie</td>\n",
       "      <td>Captain Sparky vs. The Flying Saucers</td>\n",
       "      <td>Mark Waring</td>\n",
       "      <td>Charlie Tahan</td>\n",
       "      <td>United States</td>\n",
       "      <td>April 1, 2020</td>\n",
       "      <td>2012</td>\n",
       "      <td>TV-G</td>\n",
       "      <td>2 min</td>\n",
       "      <td>Action-Adventure, Animals &amp; Nature, Animation</td>\n",
       "      <td>View one of Sparky's favorite home movies.</td>\n",
       "    </tr>\n",
       "  </tbody>\n",
       "</table>\n",
       "<p>1450 rows × 12 columns</p>\n",
       "</div>"
      ],
      "text/plain": [
       "     show_id     type                                             title  \\\n",
       "0         s1    Movie  Duck the Halls: A Mickey Mouse Christmas Special   \n",
       "1         s2    Movie                            Ernest Saves Christmas   \n",
       "2         s3    Movie                      Ice Age: A Mammoth Christmas   \n",
       "3         s4    Movie                        The Queen Family Singalong   \n",
       "4         s5  TV Show                             The Beatles: Get Back   \n",
       "...      ...      ...                                               ...   \n",
       "1445   s1446    Movie                          X-Men Origins: Wolverine   \n",
       "1446   s1447    Movie    Night at the Museum: Battle of the Smithsonian   \n",
       "1447   s1448    Movie                                   Eddie the Eagle   \n",
       "1448   s1449    Movie                              Bend It Like Beckham   \n",
       "1449   s1450    Movie             Captain Sparky vs. The Flying Saucers   \n",
       "\n",
       "                               director  \\\n",
       "0     Alonso Ramirez Ramos, Dave Wasson   \n",
       "1                           John Cherry   \n",
       "2                          Karen Disher   \n",
       "3                       Hamish Hamilton   \n",
       "4                                   NaN   \n",
       "...                                 ...   \n",
       "1445                         Gavin Hood   \n",
       "1446                         Shawn Levy   \n",
       "1447                    Dexter Fletcher   \n",
       "1448                    Gurinder Chadha   \n",
       "1449                        Mark Waring   \n",
       "\n",
       "                                                   cast  \\\n",
       "0     Chris Diamantopoulos, Tony Anselmo, Tress MacN...   \n",
       "1              Jim Varney, Noelle Parker, Douglas Seale   \n",
       "2     Raymond Albert Romano, John Leguizamo, Denis L...   \n",
       "3     Darren Criss, Adam Lambert, Derek Hough, Alexa...   \n",
       "4     John Lennon, Paul McCartney, George Harrison, ...   \n",
       "...                                                 ...   \n",
       "1445  Hugh Jackman, Liev Schreiber, Danny Huston, wi...   \n",
       "1446  Ben Stiller, Amy Adams, Owen Wilson, Hank Azar...   \n",
       "1447  Tom Costello, Jo Hartley, Keith Allen, Dickon ...   \n",
       "1448  Parminder Nagra, Keira Knightley, Jonathan Rhy...   \n",
       "1449                                      Charlie Tahan   \n",
       "\n",
       "                                     country          date_added  \\\n",
       "0                                        NaN   November 26, 2021   \n",
       "1                                        NaN   November 26, 2021   \n",
       "2                              United States   November 26, 2021   \n",
       "3                                        NaN   November 26, 2021   \n",
       "4                                        NaN   November 25, 2021   \n",
       "...                                      ...                 ...   \n",
       "1445           United States, United Kingdom        June 4, 2021   \n",
       "1446                   United States, Canada       April 2, 2021   \n",
       "1447  United Kingdom, Germany, United States   December 18, 2020   \n",
       "1448  United Kingdom, Germany, United States  September 18, 2020   \n",
       "1449                           United States       April 1, 2020   \n",
       "\n",
       "      release_year rating  duration  \\\n",
       "0             2016   TV-G    23 min   \n",
       "1             1988     PG    91 min   \n",
       "2             2011   TV-G    23 min   \n",
       "3             2021  TV-PG    41 min   \n",
       "4             2021    NaN  1 Season   \n",
       "...            ...    ...       ...   \n",
       "1445          2009  PG-13   108 min   \n",
       "1446          2009     PG   106 min   \n",
       "1447          2016  PG-13   107 min   \n",
       "1448          2003  PG-13   112 min   \n",
       "1449          2012   TV-G     2 min   \n",
       "\n",
       "                                          listed_in  \\\n",
       "0                                 Animation, Family   \n",
       "1                                            Comedy   \n",
       "2                         Animation, Comedy, Family   \n",
       "3                                           Musical   \n",
       "4                     Docuseries, Historical, Music   \n",
       "...                                             ...   \n",
       "1445      Action-Adventure, Family, Science Fiction   \n",
       "1446               Action-Adventure, Comedy, Family   \n",
       "1447                    Biographical, Comedy, Drama   \n",
       "1448                   Buddy, Comedy, Coming of Age   \n",
       "1449  Action-Adventure, Animals & Nature, Animation   \n",
       "\n",
       "                                            description  \n",
       "0      Join Mickey and the gang as they duck the halls!  \n",
       "1     Santa Claus passes his magic bag to a new St. ...  \n",
       "2             Sid the Sloth is on Santa's naughty list.  \n",
       "3                  This is real life, not just fantasy!  \n",
       "4     A three-part documentary from Peter Jackson ca...  \n",
       "...                                                 ...  \n",
       "1445  Wolverine unites with legendary X-Men to fight...  \n",
       "1446  Larry Daley returns to rescue some old friends...  \n",
       "1447  True story of Eddie Edwards, a British ski-jum...  \n",
       "1448  Despite the wishes of their traditional famili...  \n",
       "1449         View one of Sparky's favorite home movies.  \n",
       "\n",
       "[1450 rows x 12 columns]"
      ]
     },
     "execution_count": 2,
     "metadata": {},
     "output_type": "execute_result"
    }
   ],
   "source": [
    "#read data\n",
    "disney = pd.read_csv('disney_plus_titles.csv')\n",
    "disney"
   ]
  },
  {
   "cell_type": "markdown",
   "id": "dbcc198b-e28f-44d1-8de9-9c23f9f48bac",
   "metadata": {},
   "source": [
    "# Data preparation and cleaning"
   ]
  },
  {
   "cell_type": "code",
   "execution_count": 3,
   "id": "628e9375-3817-48e9-89b6-66a0bad6e274",
   "metadata": {},
   "outputs": [
    {
     "data": {
      "text/html": [
       "<div>\n",
       "<style scoped>\n",
       "    .dataframe tbody tr th:only-of-type {\n",
       "        vertical-align: middle;\n",
       "    }\n",
       "\n",
       "    .dataframe tbody tr th {\n",
       "        vertical-align: top;\n",
       "    }\n",
       "\n",
       "    .dataframe thead th {\n",
       "        text-align: right;\n",
       "    }\n",
       "</style>\n",
       "<table border=\"1\" class=\"dataframe\">\n",
       "  <thead>\n",
       "    <tr style=\"text-align: right;\">\n",
       "      <th></th>\n",
       "      <th>release_year</th>\n",
       "    </tr>\n",
       "  </thead>\n",
       "  <tbody>\n",
       "    <tr>\n",
       "      <th>count</th>\n",
       "      <td>1450.000000</td>\n",
       "    </tr>\n",
       "    <tr>\n",
       "      <th>mean</th>\n",
       "      <td>2003.091724</td>\n",
       "    </tr>\n",
       "    <tr>\n",
       "      <th>std</th>\n",
       "      <td>21.860162</td>\n",
       "    </tr>\n",
       "    <tr>\n",
       "      <th>min</th>\n",
       "      <td>1928.000000</td>\n",
       "    </tr>\n",
       "    <tr>\n",
       "      <th>25%</th>\n",
       "      <td>1999.000000</td>\n",
       "    </tr>\n",
       "    <tr>\n",
       "      <th>50%</th>\n",
       "      <td>2011.000000</td>\n",
       "    </tr>\n",
       "    <tr>\n",
       "      <th>75%</th>\n",
       "      <td>2018.000000</td>\n",
       "    </tr>\n",
       "    <tr>\n",
       "      <th>max</th>\n",
       "      <td>2021.000000</td>\n",
       "    </tr>\n",
       "  </tbody>\n",
       "</table>\n",
       "</div>"
      ],
      "text/plain": [
       "       release_year\n",
       "count   1450.000000\n",
       "mean    2003.091724\n",
       "std       21.860162\n",
       "min     1928.000000\n",
       "25%     1999.000000\n",
       "50%     2011.000000\n",
       "75%     2018.000000\n",
       "max     2021.000000"
      ]
     },
     "execution_count": 3,
     "metadata": {},
     "output_type": "execute_result"
    }
   ],
   "source": [
    "disney.describe()"
   ]
  },
  {
   "cell_type": "code",
   "execution_count": 4,
   "id": "be2d3ad7-0b73-4ad4-8694-60e7d4fcbcd5",
   "metadata": {},
   "outputs": [
    {
     "data": {
      "text/plain": [
       "show_id         object\n",
       "type            object\n",
       "title           object\n",
       "director        object\n",
       "cast            object\n",
       "country         object\n",
       "date_added      object\n",
       "release_year     int64\n",
       "rating          object\n",
       "duration        object\n",
       "listed_in       object\n",
       "description     object\n",
       "dtype: object"
      ]
     },
     "execution_count": 4,
     "metadata": {},
     "output_type": "execute_result"
    }
   ],
   "source": [
    "#overview\n",
    "disney.dtypes"
   ]
  },
  {
   "cell_type": "code",
   "execution_count": 5,
   "id": "4397d717-2331-4e48-9fd5-d33964c0f6a0",
   "metadata": {},
   "outputs": [
    {
     "data": {
      "text/plain": [
       "(1450, 12)"
      ]
     },
     "execution_count": 5,
     "metadata": {},
     "output_type": "execute_result"
    }
   ],
   "source": [
    "disney.shape"
   ]
  },
  {
   "cell_type": "code",
   "execution_count": 7,
   "id": "d5eb5504-7758-4f9f-b921-405afd3095f1",
   "metadata": {},
   "outputs": [
    {
     "name": "stdout",
     "output_type": "stream",
     "text": [
      "<class 'pandas.core.frame.DataFrame'>\n",
      "RangeIndex: 1450 entries, 0 to 1449\n",
      "Data columns (total 12 columns):\n",
      " #   Column        Non-Null Count  Dtype \n",
      "---  ------        --------------  ----- \n",
      " 0   show_id       1450 non-null   object\n",
      " 1   type          1450 non-null   object\n",
      " 2   title         1450 non-null   object\n",
      " 3   director      977 non-null    object\n",
      " 4   cast          1260 non-null   object\n",
      " 5   country       1231 non-null   object\n",
      " 6   date_added    1447 non-null   object\n",
      " 7   release_year  1450 non-null   int64 \n",
      " 8   rating        1447 non-null   object\n",
      " 9   duration      1450 non-null   object\n",
      " 10  listed_in     1450 non-null   object\n",
      " 11  description   1450 non-null   object\n",
      "dtypes: int64(1), object(11)\n",
      "memory usage: 136.1+ KB\n"
     ]
    }
   ],
   "source": [
    "disney.info()"
   ]
  },
  {
   "cell_type": "code",
   "execution_count": 8,
   "id": "b6a51b3c-f8e4-4cd6-a815-4bd87355e013",
   "metadata": {},
   "outputs": [
    {
     "data": {
      "text/plain": [
       "show_id         1450\n",
       "type               2\n",
       "title           1450\n",
       "director         609\n",
       "cast            1193\n",
       "country           89\n",
       "date_added       167\n",
       "release_year      90\n",
       "rating             9\n",
       "duration         158\n",
       "listed_in        329\n",
       "description     1448\n",
       "dtype: int64"
      ]
     },
     "execution_count": 8,
     "metadata": {},
     "output_type": "execute_result"
    }
   ],
   "source": [
    "disney.nunique()"
   ]
  },
  {
   "cell_type": "markdown",
   "id": "077307b9-a914-49f5-9ec0-cd80f765fdc8",
   "metadata": {},
   "source": [
    "#### Dealing with the null values"
   ]
  },
  {
   "cell_type": "code",
   "execution_count": 9,
   "id": "1beae8b9-b66f-412c-af8f-aa9ddc7435fe",
   "metadata": {},
   "outputs": [
    {
     "data": {
      "text/plain": [
       "True"
      ]
     },
     "execution_count": 9,
     "metadata": {},
     "output_type": "execute_result"
    }
   ],
   "source": [
    "disney.isnull().values.any()"
   ]
  },
  {
   "cell_type": "code",
   "execution_count": 10,
   "id": "9e71e9fd-212d-4ac6-b189-420e3c23510a",
   "metadata": {},
   "outputs": [
    {
     "data": {
      "text/plain": [
       "888"
      ]
     },
     "execution_count": 10,
     "metadata": {},
     "output_type": "execute_result"
    }
   ],
   "source": [
    "disney.isnull().sum().sum()"
   ]
  },
  {
   "cell_type": "code",
   "execution_count": 11,
   "id": "24e17e29-5d70-4fe2-9658-ebd660534f35",
   "metadata": {},
   "outputs": [
    {
     "data": {
      "image/png": "[encoded data removed]",
      "text/plain": [
       "<Figure size 432x288 with 1 Axes>"
      ]
     },
     "metadata": {},
     "output_type": "display_data"
    }
   ],
   "source": [
    "sns.heatmap(disney.isnull(), cbar=False)\n",
    "plt.title('Null Values Heatmap')\n",
    "plt.show()"
   ]
  },
  {
   "cell_type": "code",
   "execution_count": 12,
   "id": "7a83c15f-cbc0-4a9c-9f60-ce761f3f9baa",
   "metadata": {},
   "outputs": [
    {
     "data": {
      "text/plain": [
       "show_id           0\n",
       "type              0\n",
       "title             0\n",
       "director        473\n",
       "cast            190\n",
       "country         219\n",
       "date_added        3\n",
       "release_year      0\n",
       "rating            3\n",
       "duration          0\n",
       "listed_in         0\n",
       "description       0\n",
       "dtype: int64"
      ]
     },
     "execution_count": 12,
     "metadata": {},
     "output_type": "execute_result"
    }
   ],
   "source": [
    "disney.isnull().sum()"
   ]
  },
  {
   "cell_type": "code",
   "execution_count": 13,
   "id": "67d8ed4e-043b-4d00-92bb-41ddc1e5cdb4",
   "metadata": {},
   "outputs": [],
   "source": [
    "disney['director'].fillna('No Director', inplace=True)\n",
    "disney['cast'].fillna('No Cast', inplace=True)\n",
    "disney['country'].fillna('Country Unavailable', inplace=True)\n",
    "disney.dropna(subset=['date_added','rating'],inplace=True)"
   ]
  },
  {
   "cell_type": "code",
   "execution_count": 14,
   "id": "c1b7fe5e-4ffc-4386-ac85-70b5a14fc4c9",
   "metadata": {},
   "outputs": [
    {
     "data": {
      "text/plain": [
       "show_id         False\n",
       "type            False\n",
       "title           False\n",
       "director        False\n",
       "cast            False\n",
       "country         False\n",
       "date_added      False\n",
       "release_year    False\n",
       "rating          False\n",
       "duration        False\n",
       "listed_in       False\n",
       "description     False\n",
       "dtype: bool"
      ]
     },
     "execution_count": 14,
     "metadata": {},
     "output_type": "execute_result"
    }
   ],
   "source": [
    "disney.isnull().any()"
   ]
  },
  {
   "cell_type": "markdown",
   "id": "70c20e2b-8a56-4127-9770-49dd8d349441",
   "metadata": {},
   "source": [
    "### Splitting the dataset\n",
    "Since the dataset consists of mainly Movies and Shows, I'm splitting the dataset to reflect that."
   ]
  },
  {
   "cell_type": "code",
   "execution_count": 15,
   "id": "0ce24413-58b4-4cae-a357-2a1185121fda",
   "metadata": {},
   "outputs": [
    {
     "data": {
      "text/html": [
       "<div>\n",
       "<style scoped>\n",
       "    .dataframe tbody tr th:only-of-type {\n",
       "        vertical-align: middle;\n",
       "    }\n",
       "\n",
       "    .dataframe tbody tr th {\n",
       "        vertical-align: top;\n",
       "    }\n",
       "\n",
       "    .dataframe thead th {\n",
       "        text-align: right;\n",
       "    }\n",
       "</style>\n",
       "<table border=\"1\" class=\"dataframe\">\n",
       "  <thead>\n",
       "    <tr style=\"text-align: right;\">\n",
       "      <th></th>\n",
       "      <th>show_id</th>\n",
       "      <th>type</th>\n",
       "      <th>title</th>\n",
       "      <th>director</th>\n",
       "      <th>cast</th>\n",
       "      <th>country</th>\n",
       "      <th>date_added</th>\n",
       "      <th>release_year</th>\n",
       "      <th>rating</th>\n",
       "      <th>duration</th>\n",
       "      <th>listed_in</th>\n",
       "      <th>description</th>\n",
       "    </tr>\n",
       "  </thead>\n",
       "  <tbody>\n",
       "    <tr>\n",
       "      <th>6</th>\n",
       "      <td>s7</td>\n",
       "      <td>TV Show</td>\n",
       "      <td>Hawkeye</td>\n",
       "      <td>No Director</td>\n",
       "      <td>Jeremy Renner, Hailee Steinfeld, Vera Farmiga,...</td>\n",
       "      <td>Country Unavailable</td>\n",
       "      <td>November 24, 2021</td>\n",
       "      <td>2021</td>\n",
       "      <td>TV-14</td>\n",
       "      <td>1 Season</td>\n",
       "      <td>Action-Adventure, Superhero</td>\n",
       "      <td>Clint Barton/Hawkeye must team up with skilled...</td>\n",
       "    </tr>\n",
       "    <tr>\n",
       "      <th>7</th>\n",
       "      <td>s8</td>\n",
       "      <td>TV Show</td>\n",
       "      <td>Port Protection Alaska</td>\n",
       "      <td>No Director</td>\n",
       "      <td>Gary Muehlberger, Mary Miller, Curly Leach, Sa...</td>\n",
       "      <td>United States</td>\n",
       "      <td>November 24, 2021</td>\n",
       "      <td>2015</td>\n",
       "      <td>TV-14</td>\n",
       "      <td>2 Seasons</td>\n",
       "      <td>Docuseries, Reality, Survival</td>\n",
       "      <td>Residents of Port Protection must combat volat...</td>\n",
       "    </tr>\n",
       "    <tr>\n",
       "      <th>8</th>\n",
       "      <td>s9</td>\n",
       "      <td>TV Show</td>\n",
       "      <td>Secrets of the Zoo: Tampa</td>\n",
       "      <td>No Director</td>\n",
       "      <td>Dr. Ray Ball, Dr. Lauren Smith, Chris Massaro,...</td>\n",
       "      <td>United States</td>\n",
       "      <td>November 24, 2021</td>\n",
       "      <td>2019</td>\n",
       "      <td>TV-PG</td>\n",
       "      <td>2 Seasons</td>\n",
       "      <td>Animals &amp; Nature, Docuseries, Family</td>\n",
       "      <td>A day in the life at ZooTampa is anything but ...</td>\n",
       "    </tr>\n",
       "    <tr>\n",
       "      <th>13</th>\n",
       "      <td>s14</td>\n",
       "      <td>TV Show</td>\n",
       "      <td>Dr. Oakley, Yukon Vet</td>\n",
       "      <td>No Director</td>\n",
       "      <td>Dr. Michelle Oakley, Zachary Fine</td>\n",
       "      <td>United States</td>\n",
       "      <td>November 17, 2021</td>\n",
       "      <td>2013</td>\n",
       "      <td>TV-PG</td>\n",
       "      <td>10 Seasons</td>\n",
       "      <td>Action-Adventure, Animals &amp; Nature, Docuseries</td>\n",
       "      <td>Meet Dr. Michelle Oakley, vet to pretty much e...</td>\n",
       "    </tr>\n",
       "    <tr>\n",
       "      <th>17</th>\n",
       "      <td>s18</td>\n",
       "      <td>TV Show</td>\n",
       "      <td>Disney Fancy Nancy</td>\n",
       "      <td>No Director</td>\n",
       "      <td>Mia Jenness, Alyson Hannigan, Rob Riggle, Spen...</td>\n",
       "      <td>United States, Canada</td>\n",
       "      <td>November 12, 2021</td>\n",
       "      <td>2018</td>\n",
       "      <td>TV-PG</td>\n",
       "      <td>3 Seasons</td>\n",
       "      <td>Animation, Kids</td>\n",
       "      <td>Nancy makes every day extraordinary!</td>\n",
       "    </tr>\n",
       "  </tbody>\n",
       "</table>\n",
       "</div>"
      ],
      "text/plain": [
       "   show_id     type                      title     director  \\\n",
       "6       s7  TV Show                    Hawkeye  No Director   \n",
       "7       s8  TV Show     Port Protection Alaska  No Director   \n",
       "8       s9  TV Show  Secrets of the Zoo: Tampa  No Director   \n",
       "13     s14  TV Show      Dr. Oakley, Yukon Vet  No Director   \n",
       "17     s18  TV Show         Disney Fancy Nancy  No Director   \n",
       "\n",
       "                                                 cast                country  \\\n",
       "6   Jeremy Renner, Hailee Steinfeld, Vera Farmiga,...    Country Unavailable   \n",
       "7   Gary Muehlberger, Mary Miller, Curly Leach, Sa...          United States   \n",
       "8   Dr. Ray Ball, Dr. Lauren Smith, Chris Massaro,...          United States   \n",
       "13                  Dr. Michelle Oakley, Zachary Fine          United States   \n",
       "17  Mia Jenness, Alyson Hannigan, Rob Riggle, Spen...  United States, Canada   \n",
       "\n",
       "           date_added  release_year rating    duration  \\\n",
       "6   November 24, 2021          2021  TV-14    1 Season   \n",
       "7   November 24, 2021          2015  TV-14   2 Seasons   \n",
       "8   November 24, 2021          2019  TV-PG   2 Seasons   \n",
       "13  November 17, 2021          2013  TV-PG  10 Seasons   \n",
       "17  November 12, 2021          2018  TV-PG   3 Seasons   \n",
       "\n",
       "                                         listed_in  \\\n",
       "6                      Action-Adventure, Superhero   \n",
       "7                    Docuseries, Reality, Survival   \n",
       "8             Animals & Nature, Docuseries, Family   \n",
       "13  Action-Adventure, Animals & Nature, Docuseries   \n",
       "17                                 Animation, Kids   \n",
       "\n",
       "                                          description  \n",
       "6   Clint Barton/Hawkeye must team up with skilled...  \n",
       "7   Residents of Port Protection must combat volat...  \n",
       "8   A day in the life at ZooTampa is anything but ...  \n",
       "13  Meet Dr. Michelle Oakley, vet to pretty much e...  \n",
       "17               Nancy makes every day extraordinary!  "
      ]
     },
     "execution_count": 15,
     "metadata": {},
     "output_type": "execute_result"
    }
   ],
   "source": [
    "disney_shows = disney[disney['type']=='TV Show'].copy()\n",
    "disney_shows.head()"
   ]
  },
  {
   "cell_type": "code",
   "execution_count": 16,
   "id": "4d1c2664-0153-49c6-997f-fc235604b2ba",
   "metadata": {},
   "outputs": [
    {
     "data": {
      "text/html": [
       "<div>\n",
       "<style scoped>\n",
       "    .dataframe tbody tr th:only-of-type {\n",
       "        vertical-align: middle;\n",
       "    }\n",
       "\n",
       "    .dataframe tbody tr th {\n",
       "        vertical-align: top;\n",
       "    }\n",
       "\n",
       "    .dataframe thead th {\n",
       "        text-align: right;\n",
       "    }\n",
       "</style>\n",
       "<table border=\"1\" class=\"dataframe\">\n",
       "  <thead>\n",
       "    <tr style=\"text-align: right;\">\n",
       "      <th></th>\n",
       "      <th>show_id</th>\n",
       "      <th>type</th>\n",
       "      <th>title</th>\n",
       "      <th>director</th>\n",
       "      <th>cast</th>\n",
       "      <th>country</th>\n",
       "      <th>date_added</th>\n",
       "      <th>release_year</th>\n",
       "      <th>rating</th>\n",
       "      <th>duration</th>\n",
       "      <th>listed_in</th>\n",
       "      <th>description</th>\n",
       "    </tr>\n",
       "  </thead>\n",
       "  <tbody>\n",
       "    <tr>\n",
       "      <th>0</th>\n",
       "      <td>s1</td>\n",
       "      <td>Movie</td>\n",
       "      <td>Duck the Halls: A Mickey Mouse Christmas Special</td>\n",
       "      <td>Alonso Ramirez Ramos, Dave Wasson</td>\n",
       "      <td>Chris Diamantopoulos, Tony Anselmo, Tress MacN...</td>\n",
       "      <td>Country Unavailable</td>\n",
       "      <td>November 26, 2021</td>\n",
       "      <td>2016</td>\n",
       "      <td>TV-G</td>\n",
       "      <td>23 min</td>\n",
       "      <td>Animation, Family</td>\n",
       "      <td>Join Mickey and the gang as they duck the halls!</td>\n",
       "    </tr>\n",
       "    <tr>\n",
       "      <th>1</th>\n",
       "      <td>s2</td>\n",
       "      <td>Movie</td>\n",
       "      <td>Ernest Saves Christmas</td>\n",
       "      <td>John Cherry</td>\n",
       "      <td>Jim Varney, Noelle Parker, Douglas Seale</td>\n",
       "      <td>Country Unavailable</td>\n",
       "      <td>November 26, 2021</td>\n",
       "      <td>1988</td>\n",
       "      <td>PG</td>\n",
       "      <td>91 min</td>\n",
       "      <td>Comedy</td>\n",
       "      <td>Santa Claus passes his magic bag to a new St. ...</td>\n",
       "    </tr>\n",
       "    <tr>\n",
       "      <th>2</th>\n",
       "      <td>s3</td>\n",
       "      <td>Movie</td>\n",
       "      <td>Ice Age: A Mammoth Christmas</td>\n",
       "      <td>Karen Disher</td>\n",
       "      <td>Raymond Albert Romano, John Leguizamo, Denis L...</td>\n",
       "      <td>United States</td>\n",
       "      <td>November 26, 2021</td>\n",
       "      <td>2011</td>\n",
       "      <td>TV-G</td>\n",
       "      <td>23 min</td>\n",
       "      <td>Animation, Comedy, Family</td>\n",
       "      <td>Sid the Sloth is on Santa's naughty list.</td>\n",
       "    </tr>\n",
       "    <tr>\n",
       "      <th>3</th>\n",
       "      <td>s4</td>\n",
       "      <td>Movie</td>\n",
       "      <td>The Queen Family Singalong</td>\n",
       "      <td>Hamish Hamilton</td>\n",
       "      <td>Darren Criss, Adam Lambert, Derek Hough, Alexa...</td>\n",
       "      <td>Country Unavailable</td>\n",
       "      <td>November 26, 2021</td>\n",
       "      <td>2021</td>\n",
       "      <td>TV-PG</td>\n",
       "      <td>41 min</td>\n",
       "      <td>Musical</td>\n",
       "      <td>This is real life, not just fantasy!</td>\n",
       "    </tr>\n",
       "    <tr>\n",
       "      <th>5</th>\n",
       "      <td>s6</td>\n",
       "      <td>Movie</td>\n",
       "      <td>Becoming Cousteau</td>\n",
       "      <td>Liz Garbus</td>\n",
       "      <td>Jacques Yves Cousteau, Vincent Cassel</td>\n",
       "      <td>United States</td>\n",
       "      <td>November 24, 2021</td>\n",
       "      <td>2021</td>\n",
       "      <td>PG-13</td>\n",
       "      <td>94 min</td>\n",
       "      <td>Biographical, Documentary</td>\n",
       "      <td>An inside look at the legendary life of advent...</td>\n",
       "    </tr>\n",
       "  </tbody>\n",
       "</table>\n",
       "</div>"
      ],
      "text/plain": [
       "  show_id   type                                             title  \\\n",
       "0      s1  Movie  Duck the Halls: A Mickey Mouse Christmas Special   \n",
       "1      s2  Movie                            Ernest Saves Christmas   \n",
       "2      s3  Movie                      Ice Age: A Mammoth Christmas   \n",
       "3      s4  Movie                        The Queen Family Singalong   \n",
       "5      s6  Movie                                 Becoming Cousteau   \n",
       "\n",
       "                            director  \\\n",
       "0  Alonso Ramirez Ramos, Dave Wasson   \n",
       "1                        John Cherry   \n",
       "2                       Karen Disher   \n",
       "3                    Hamish Hamilton   \n",
       "5                         Liz Garbus   \n",
       "\n",
       "                                                cast              country  \\\n",
       "0  Chris Diamantopoulos, Tony Anselmo, Tress MacN...  Country Unavailable   \n",
       "1           Jim Varney, Noelle Parker, Douglas Seale  Country Unavailable   \n",
       "2  Raymond Albert Romano, John Leguizamo, Denis L...        United States   \n",
       "3  Darren Criss, Adam Lambert, Derek Hough, Alexa...  Country Unavailable   \n",
       "5              Jacques Yves Cousteau, Vincent Cassel        United States   \n",
       "\n",
       "          date_added  release_year rating duration                  listed_in  \\\n",
       "0  November 26, 2021          2016   TV-G   23 min          Animation, Family   \n",
       "1  November 26, 2021          1988     PG   91 min                     Comedy   \n",
       "2  November 26, 2021          2011   TV-G   23 min  Animation, Comedy, Family   \n",
       "3  November 26, 2021          2021  TV-PG   41 min                    Musical   \n",
       "5  November 24, 2021          2021  PG-13   94 min  Biographical, Documentary   \n",
       "\n",
       "                                         description  \n",
       "0   Join Mickey and the gang as they duck the halls!  \n",
       "1  Santa Claus passes his magic bag to a new St. ...  \n",
       "2          Sid the Sloth is on Santa's naughty list.  \n",
       "3               This is real life, not just fantasy!  \n",
       "5  An inside look at the legendary life of advent...  "
      ]
     },
     "execution_count": 16,
     "metadata": {},
     "output_type": "execute_result"
    }
   ],
   "source": [
    "disney_movies = disney[disney['type']=='Movie'].copy()\n",
    "disney_movies.head()\n"
   ]
  },
  {
   "cell_type": "markdown",
   "id": "b592883c-9627-401e-89b7-ff5cbd30c5f5",
   "metadata": {},
   "source": [
    "# Disney Plus Catalogue\n",
    "This is to see the number of shows and movies on the disney plus catalogue"
   ]
  },
  {
   "cell_type": "code",
   "execution_count": 17,
   "id": "7eacf4a1-91da-491c-b634-c28dacab04bc",
   "metadata": {},
   "outputs": [
    {
     "name": "stderr",
     "output_type": "stream",
     "text": [
      "C:\\Users\\MSI\\anaconda3\\lib\\site-packages\\seaborn\\_decorators.py:43: FutureWarning: Pass the following variable as a keyword arg: x. From version 0.12, the only valid positional argument will be `data`, and passing other arguments without an explicit keyword will result in an error or misinterpretation.\n",
      "  FutureWarning\n"
     ]
    },
    {
     "data": {
      "image/png": "[encoded data removed]",
      "text/plain": [
       "<Figure size 504x360 with 1 Axes>"
      ]
     },
     "metadata": {},
     "output_type": "display_data"
    }
   ],
   "source": [
    "plt.figure(figsize=(7,5))\n",
    "g = sns.countplot(disney.type, palette=\"pastel\");\n",
    "plt.title(\"Count of Movies and TV Shows\")\n",
    "plt.xlabel(\"Type (Movie/TV Show)\")\n",
    "plt.ylabel(\"Total Count\")\n",
    "plt.show()"
   ]
  },
  {
   "cell_type": "code",
   "execution_count": 18,
   "id": "ca250cb7-f931-4730-8df6-d16810817a9a",
   "metadata": {},
   "outputs": [
    {
     "data": {
      "image/png": "[encoded data removed]",
      "text/plain": [
       "<Figure size 864x432 with 1 Axes>"
      ]
     },
     "metadata": {},
     "output_type": "display_data"
    }
   ],
   "source": [
    "plt.figure(figsize=(12,6))\n",
    "plt.title(\"% of Disney plus Titles that are either Movies or TV Shows\")\n",
    "g = plt.pie(disney.type.value_counts(), explode=(0.025,0.025), labels=disney.type.value_counts().index, colors=['skyblue','navajowhite'],autopct='%1.1f%%', startangle=180);\n",
    "plt.legend()\n",
    "plt.show()"
   ]
  },
  {
   "cell_type": "markdown",
   "id": "1365ff8b-d667-42a6-b561-cb8a57f2efc3",
   "metadata": {},
   "source": [
    "So there are roughly 1,000+ movies and about 280 shows with movies being the majority. This isn't surprising since shows are ongoing and have episodes, but in terms of titles there are far more movie titles (72.8%) than TV show titles (27.2%)."
   ]
  },
  {
   "cell_type": "markdown",
   "id": "c04c884e-ec43-4557-b48d-333191d23188",
   "metadata": {},
   "source": [
    "## Disney plus Film Ratings\n",
    "Now, we will explore the ratings which are based on the film rating system. The ordering of the ratings will be based on the age of the respective audience from youngest to oldest."
   ]
  },
  {
   "cell_type": "code",
   "execution_count": 19,
   "id": "dc2ec9e8-826e-4161-b0e0-6bc5d4ac26a5",
   "metadata": {},
   "outputs": [
    {
     "name": "stderr",
     "output_type": "stream",
     "text": [
      "C:\\Users\\MSI\\anaconda3\\lib\\site-packages\\seaborn\\_decorators.py:43: FutureWarning: Pass the following variable as a keyword arg: x. From version 0.12, the only valid positional argument will be `data`, and passing other arguments without an explicit keyword will result in an error or misinterpretation.\n",
      "  FutureWarning\n"
     ]
    },
    {
     "data": {
      "image/png": "[encoded data removed]",
      "text/plain": [
       "<Figure size 1080x504 with 1 Axes>"
      ]
     },
     "metadata": {},
     "output_type": "display_data"
    }
   ],
   "source": [
    "order =  ['G', 'TV-Y', 'TV-G', 'PG', 'TV-Y7', 'TV-Y7-FV', 'TV-PG', 'PG-13', 'TV-14', 'R', 'NC-17', 'TV-MA']\n",
    "plt.figure(figsize=(15,7))\n",
    "g = sns.countplot(disney.rating, hue=disney.type, order=order, palette=\"pastel\");\n",
    "plt.title(\"Ratings for Movies & TV Shows\")\n",
    "plt.xlabel(\"Rating\")\n",
    "plt.ylabel(\"Total Count\")\n",
    "plt.show()\n"
   ]
  },
  {
   "cell_type": "code",
   "execution_count": 20,
   "id": "7dd6c4c1-e86d-4f8b-943f-a85e8e04146b",
   "metadata": {},
   "outputs": [
    {
     "name": "stderr",
     "output_type": "stream",
     "text": [
      "C:\\Users\\MSI\\anaconda3\\lib\\site-packages\\seaborn\\_decorators.py:43: FutureWarning: Pass the following variable as a keyword arg: x. From version 0.12, the only valid positional argument will be `data`, and passing other arguments without an explicit keyword will result in an error or misinterpretation.\n",
      "  FutureWarning\n",
      "C:\\Users\\MSI\\anaconda3\\lib\\site-packages\\seaborn\\_decorators.py:43: FutureWarning: Pass the following variable as a keyword arg: x. From version 0.12, the only valid positional argument will be `data`, and passing other arguments without an explicit keyword will result in an error or misinterpretation.\n",
      "  FutureWarning\n",
      "C:\\Users\\MSI\\anaconda3\\lib\\site-packages\\ipykernel_launcher.py:11: UserWarning: Matplotlib is currently using module://ipykernel.pylab.backend_inline, which is a non-GUI backend, so cannot show the figure.\n",
      "  # This is added back by InteractiveShellApp.init_path()\n"
     ]
    },
    {
     "data": {
      "image/png": "[encoded data removed]",
      "text/plain": [
       "<Figure size 1368x360 with 2 Axes>"
      ]
     },
     "metadata": {},
     "output_type": "display_data"
    }
   ],
   "source": [
    "fig, ax = plt.subplots(1,2, figsize=(19, 5))\n",
    "g1 = sns.countplot(disney_movies.rating, order=order,palette=\"Set2\", ax=ax[0]);\n",
    "g1.set_title(\"Ratings for Movies\")\n",
    "g1.set_xlabel(\"Rating\")\n",
    "g1.set_ylabel(\"Total Count\")\n",
    "g2 = sns.countplot(disney_shows.rating, order=order,palette=\"Set2\", ax=ax[1]);\n",
    "g2.set(yticks=np.arange(0,1600,200))\n",
    "g2.set_title(\"Ratings for TV Shows\")\n",
    "g2.set_xlabel(\"Rating\")\n",
    "g2.set_ylabel(\"Total Count\")\n",
    "fig.show()"
   ]
  },
  {
   "cell_type": "markdown",
   "id": "37348cbe-6f68-4129-adb0-44d1e3133d0d",
   "metadata": {},
   "source": [
    "Overall, there is much more content for the younger audience, especially the movies, this isn't surprising when you think of the history of Disney. "
   ]
  },
  {
   "cell_type": "code",
   "execution_count": 21,
   "id": "5d075018-ddec-409f-97b2-1757aa729e0e",
   "metadata": {},
   "outputs": [],
   "source": [
    "disney['year_added'] = pd.DatetimeIndex(disney['date_added']).year\n",
    "disney_movies['year_added'] = pd.DatetimeIndex(disney_movies['date_added']).year\n",
    "disney_shows['year_added'] = pd.DatetimeIndex(disney_shows['date_added']).year\n",
    "disney['month_added'] = pd.DatetimeIndex(disney['date_added']).month\n",
    "disney_movies['month_added'] = pd.DatetimeIndex(disney_movies['date_added']).month\n",
    "disney_shows['month_added'] = pd.DatetimeIndex(disney_shows['date_added']).month"
   ]
  },
  {
   "cell_type": "markdown",
   "id": "072b6b48-cb1f-4358-9075-41a7f4d7e155",
   "metadata": {},
   "source": [
    "## Content added each year\n",
    "Now we will take a look at the amount of content Disney Plus has added since they started in 2019. "
   ]
  },
  {
   "cell_type": "code",
   "execution_count": 22,
   "id": "e7cb6934-f473-41b3-99b0-7609796af936",
   "metadata": {},
   "outputs": [
    {
     "data": {
      "text/html": [
       "<div>\n",
       "<style scoped>\n",
       "    .dataframe tbody tr th:only-of-type {\n",
       "        vertical-align: middle;\n",
       "    }\n",
       "\n",
       "    .dataframe tbody tr th {\n",
       "        vertical-align: top;\n",
       "    }\n",
       "\n",
       "    .dataframe thead th {\n",
       "        text-align: right;\n",
       "    }\n",
       "</style>\n",
       "<table border=\"1\" class=\"dataframe\">\n",
       "  <thead>\n",
       "    <tr style=\"text-align: right;\">\n",
       "      <th></th>\n",
       "      <th>year</th>\n",
       "      <th>count</th>\n",
       "    </tr>\n",
       "  </thead>\n",
       "  <tbody>\n",
       "    <tr>\n",
       "      <th>0</th>\n",
       "      <td>2019</td>\n",
       "      <td>765</td>\n",
       "    </tr>\n",
       "    <tr>\n",
       "      <th>1</th>\n",
       "      <td>2020</td>\n",
       "      <td>352</td>\n",
       "    </tr>\n",
       "    <tr>\n",
       "      <th>2</th>\n",
       "      <td>2021</td>\n",
       "      <td>327</td>\n",
       "    </tr>\n",
       "  </tbody>\n",
       "</table>\n",
       "</div>"
      ],
      "text/plain": [
       "   year  count\n",
       "0  2019    765\n",
       "1  2020    352\n",
       "2  2021    327"
      ]
     },
     "execution_count": 22,
     "metadata": {},
     "output_type": "execute_result"
    }
   ],
   "source": [
    "disney_year = disney['year_added'].value_counts().to_frame().reset_index().rename(columns={'index': 'year','year_added':'count'})\n",
    "disney_year = disney_year[disney_year.year != 2022]\n",
    "disney_year"
   ]
  },
  {
   "cell_type": "code",
   "execution_count": 26,
   "id": "669a5f5e-7b41-4921-965b-3020e6a03906",
   "metadata": {},
   "outputs": [
    {
     "data": {
      "text/html": [
       "<div>\n",
       "<style scoped>\n",
       "    .dataframe tbody tr th:only-of-type {\n",
       "        vertical-align: middle;\n",
       "    }\n",
       "\n",
       "    .dataframe tbody tr th {\n",
       "        vertical-align: top;\n",
       "    }\n",
       "\n",
       "    .dataframe thead th {\n",
       "        text-align: right;\n",
       "    }\n",
       "</style>\n",
       "<table border=\"1\" class=\"dataframe\">\n",
       "  <thead>\n",
       "    <tr style=\"text-align: right;\">\n",
       "      <th></th>\n",
       "      <th>year</th>\n",
       "      <th>count</th>\n",
       "    </tr>\n",
       "  </thead>\n",
       "  <tbody>\n",
       "    <tr>\n",
       "      <th>0</th>\n",
       "      <td>2021</td>\n",
       "      <td>123</td>\n",
       "    </tr>\n",
       "    <tr>\n",
       "      <th>1</th>\n",
       "      <td>2020</td>\n",
       "      <td>114</td>\n",
       "    </tr>\n",
       "    <tr>\n",
       "      <th>2</th>\n",
       "      <td>2019</td>\n",
       "      <td>98</td>\n",
       "    </tr>\n",
       "    <tr>\n",
       "      <th>3</th>\n",
       "      <td>2017</td>\n",
       "      <td>69</td>\n",
       "    </tr>\n",
       "    <tr>\n",
       "      <th>4</th>\n",
       "      <td>2018</td>\n",
       "      <td>65</td>\n",
       "    </tr>\n",
       "    <tr>\n",
       "      <th>...</th>\n",
       "      <td>...</td>\n",
       "      <td>...</td>\n",
       "    </tr>\n",
       "    <tr>\n",
       "      <th>85</th>\n",
       "      <td>1928</td>\n",
       "      <td>1</td>\n",
       "    </tr>\n",
       "    <tr>\n",
       "      <th>86</th>\n",
       "      <td>1944</td>\n",
       "      <td>1</td>\n",
       "    </tr>\n",
       "    <tr>\n",
       "      <th>87</th>\n",
       "      <td>1970</td>\n",
       "      <td>1</td>\n",
       "    </tr>\n",
       "    <tr>\n",
       "      <th>88</th>\n",
       "      <td>1945</td>\n",
       "      <td>1</td>\n",
       "    </tr>\n",
       "    <tr>\n",
       "      <th>89</th>\n",
       "      <td>1968</td>\n",
       "      <td>1</td>\n",
       "    </tr>\n",
       "  </tbody>\n",
       "</table>\n",
       "<p>90 rows × 2 columns</p>\n",
       "</div>"
      ],
      "text/plain": [
       "    year  count\n",
       "0   2021    123\n",
       "1   2020    114\n",
       "2   2019     98\n",
       "3   2017     69\n",
       "4   2018     65\n",
       "..   ...    ...\n",
       "85  1928      1\n",
       "86  1944      1\n",
       "87  1970      1\n",
       "88  1945      1\n",
       "89  1968      1\n",
       "\n",
       "[90 rows x 2 columns]"
      ]
     },
     "execution_count": 26,
     "metadata": {},
     "output_type": "execute_result"
    }
   ],
   "source": [
    "disney_release = disney['release_year'].value_counts().to_frame().reset_index().rename(columns={'index': 'year','release_year':'count'})\n",
    "disney_release = disney_release[disney_release.year != 2022]\n",
    "disney_release"
   ]
  },
  {
   "cell_type": "markdown",
   "id": "c92fea42-98d0-49bd-895d-2000365e78c5",
   "metadata": {},
   "source": [
    "I added this to show that even though disney plus started in 2019, Disney has been releasing content from as early as 1928"
   ]
  },
  {
   "cell_type": "code",
   "execution_count": 23,
   "id": "ac4f5fee-ac07-4bf9-bf75-e23bdf9b704a",
   "metadata": {},
   "outputs": [],
   "source": [
    "disney_year2 = disney[['type','year_added']]\n",
    "movie_year = disney_year2[disney_year2['type']=='Movie'].year_added.value_counts().to_frame().reset_index().rename(columns={'index': 'year','year_added':'count'})\n",
    "movie_year = movie_year[movie_year.year != 2022]\n",
    "show_year = disney_year2[disney_year2['type']=='TV Show'].year_added.value_counts().to_frame().reset_index().rename(columns={'index': 'year','year_added':'count'})\n",
    "show_year = show_year[show_year.year != 2022]"
   ]
  },
  {
   "cell_type": "code",
   "execution_count": 25,
   "id": "89d648c7-f3b2-40f4-8603-a8906fc0947d",
   "metadata": {},
   "outputs": [
    {
     "data": {
      "image/png": "[encoded data removed]",
      "text/plain": [
       "<Figure size 720x432 with 1 Axes>"
      ]
     },
     "metadata": {},
     "output_type": "display_data"
    }
   ],
   "source": [
    "fig, ax = plt.subplots(figsize=(10, 6))\n",
    "sns.lineplot(data=disney_year, x='year', y='count')\n",
    "sns.lineplot(data=movie_year, x='year', y='count')\n",
    "sns.lineplot(data=show_year, x='year', y='count')\n",
    "ax.set_xticks(np.arange(2019, 2022, 1))\n",
    "plt.title(\"Total content added each year (up to 2022)\")\n",
    "plt.legend(['Total','Movie','TV Show'])\n",
    "plt.ylabel(\"Releases\")\n",
    "plt.xlabel(\"Year\")\n",
    "plt.show()"
   ]
  },
  {
   "cell_type": "code",
   "execution_count": 27,
   "id": "e8390ba3-de6a-4be6-bfea-84eee786e544",
   "metadata": {},
   "outputs": [
    {
     "data": {
      "image/png": "[encoded data removed]",
      "text/plain": [
       "<Figure size 792x576 with 2 Axes>"
      ]
     },
     "metadata": {},
     "output_type": "display_data"
    }
   ],
   "source": [
    "month_year = disney.groupby('year_added')['month_added'].value_counts().unstack().fillna(0).T\n",
    "\n",
    "plt.figure(figsize=(11,8))\n",
    "sns.heatmap(month_year, linewidths=0.025, cmap=\"YlGnBu\")\n",
    "plt.title(\"Content Heatmap\")\n",
    "plt.ylabel(\"Month\")\n",
    "plt.xlabel(\"Year\")\n",
    "plt.show()"
   ]
  },
  {
   "cell_type": "markdown",
   "id": "893a3a96-89ac-4f26-b9a0-2196af66bf8f",
   "metadata": {},
   "source": [
    "\n",
    "# Countries with the most content available"
   ]
  },
  {
   "cell_type": "code",
   "execution_count": 46,
   "id": "61f32d80-b0c4-42b0-84d4-b5faf72a1127",
   "metadata": {},
   "outputs": [
    {
     "data": {
      "image/png": "[encoded data removed]",
      "text/plain": [
       "<Figure size 1440x648 with 1 Axes>"
      ]
     },
     "metadata": {},
     "output_type": "display_data"
    }
   ],
   "source": [
    "filtered_countries = disney.set_index('title').country.str.split(', ', expand=True).stack().reset_index(level=1, drop=True);\n",
    "filtered_countries = filtered_countries[filtered_countries != 'Country Unavailable']\n",
    "\n",
    "plt.figure(figsize=(20,9))\n",
    "g = sns.countplot(y = filtered_countries, order=filtered_countries.value_counts().index[:20])\n",
    "plt.title('Top 20 Countries on Disney Plus')\n",
    "plt.xlabel('Titles')\n",
    "plt.ylabel('Country')\n",
    "plt.show()"
   ]
  },
  {
   "cell_type": "markdown",
   "id": "0811cd77-aed6-4e51-b25a-482b6a0021b8",
   "metadata": {},
   "source": [
    "This isn't surpising as Disney Plus is mainly American so the bulk of the content comes from the country. South Africa is the only African country to make an appearance."
   ]
  },
  {
   "cell_type": "code",
   "execution_count": 31,
   "id": "7306b5e8-5b8c-41ad-8fb9-f7e152485b72",
   "metadata": {},
   "outputs": [
    {
     "data": {
      "image/png": "[encoded data removed]",
      "text/plain": [
       "<Figure size 504x648 with 1 Axes>"
      ]
     },
     "metadata": {},
     "output_type": "display_data"
    }
   ],
   "source": [
    "filtered_genres = disney.set_index('title').listed_in.str.split(', ', expand=True).stack().reset_index(level=1, drop=True);\n",
    "\n",
    "plt.figure(figsize=(7,9))\n",
    "g = sns.countplot(y = filtered_genres, order=filtered_genres.value_counts().index[:30])\n",
    "plt.title('Top 30 Genres on Disney Plus')\n",
    "plt.xlabel('Titles')\n",
    "plt.ylabel('Genres')\n",
    "plt.show()"
   ]
  },
  {
   "cell_type": "markdown",
   "id": "d309663a-655c-4ce8-931d-8617eeb6eda0",
   "metadata": {},
   "source": [
    "Disney is mainly a family streaming service, that shows with the ratings of the movies and shows and it also shows here with the Genres present. It also isn't surprising that animation and comedy round upthe top 3."
   ]
  },
  {
   "cell_type": "code",
   "execution_count": 37,
   "id": "0130d5d1-05be-4b71-89ae-a63c57c6a397",
   "metadata": {},
   "outputs": [
    {
     "data": {
      "image/png": "[encoded data removed]",
      "text/plain": [
       "<Figure size 432x288 with 1 Axes>"
      ]
     },
     "metadata": {},
     "output_type": "display_data"
    }
   ],
   "source": [
    "filtered_directors = disney[disney.director != 'No Director'].set_index('title').director.str.split(', ', expand=True).stack().reset_index(level=1, drop=True)\n",
    "sns.countplot(y = filtered_directors, order=filtered_directors.value_counts().index[:20], palette='mako')\n",
    "plt.show()\n"
   ]
  },
  {
   "cell_type": "code",
   "execution_count": 38,
   "id": "500d5e9a-abb9-48da-a2de-e670706b42e6",
   "metadata": {},
   "outputs": [
    {
     "data": {
      "image/png": "[encoded data removed]",
      "text/plain": [
       "<Figure size 432x288 with 1 Axes>"
      ]
     },
     "metadata": {},
     "output_type": "display_data"
    }
   ],
   "source": [
    "filtered_cast = disney[disney.cast != 'No Cast'].set_index('title').cast.str.split(', ', expand=True).stack().reset_index(level=1, drop=True)\n",
    "sns.countplot(y = filtered_cast, order=filtered_cast.value_counts().index[:20], palette='rocket')\n",
    "plt.show()"
   ]
  },
  {
   "cell_type": "markdown",
   "id": "41a707ae-ac8f-49c1-b456-efc18a20630f",
   "metadata": {},
   "source": [
    "From these, we can see that the most popular Directors and actors are American which isn't surprising when we take the amount of content from the United States into consideration."
   ]
  },
  {
   "cell_type": "markdown",
   "id": "42cde881-2919-49c5-b82a-71d349cff43f",
   "metadata": {},
   "source": [
    "# Inferences and Conclusion\n",
    "Disney plus is obviously new as it started at November 2019 and we can sy it's still riding on the coattails of disney with the content readily available on the platform. There's not much to be said about Disney plus yet, but it'll be great to see how they move forward and break into new markets, especially the African market."
   ]
  },
  {
   "cell_type": "code",
   "execution_count": null,
   "id": "4bd6b466-a842-4395-8b58-cbc17da340b3",
   "metadata": {},
   "outputs": [],
   "source": []
  }
 ],
 "metadata": {
  "kernelspec": {
   "display_name": "Python 3",
   "language": "python",
   "name": "python3"
  },
  "language_info": {
   "codemirror_mode": {
    "name": "ipython",
    "version": 3
   },
   "file_extension": ".py",
   "mimetype": "text/x-python",
   "name": "python",
   "nbconvert_exporter": "python",
   "pygments_lexer": "ipython3",
   "version": "3.7.10"
  }
 },
 "nbformat": 4,
 "nbformat_minor": 5
}
